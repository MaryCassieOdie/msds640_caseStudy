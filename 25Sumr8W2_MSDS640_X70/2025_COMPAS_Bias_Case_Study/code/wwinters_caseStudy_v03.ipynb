{
 "cells": [
  {
   "cell_type": "markdown",
   "id": "fb04c3fe-5320-40af-b1d2-71a84546f419",
   "metadata": {},
   "source": [
    "# COMPAS Bias and Accuracy"
   ]
  },
  {
   "cell_type": "markdown",
   "id": "79ee3d03-3baa-4371-b67f-f0e260443eb3",
   "metadata": {},
   "source": [
    "------------------------------------------------------\n",
    "- Wiley Winters\n",
    "- MSDS 640&nbsp;&mdash;&nbsp;Case Study\n",
    "- 2025-AUG-24"
   ]
  },
  {
   "cell_type": "markdown",
   "id": "fbad13a0-5019-4a23-ba80-ca3adae0bc4f",
   "metadata": {},
   "source": [
    "----------------------------------------------------------------------------\n",
    "Is there real bias in judicial decision-support software?  I will also explore whether this bias was intentional or not.  The software package this study will concentrate on is COMPAS by Equivant, but the research indicates that bias has been introduced into other software, and it is not just a COMPAS issue.  Furthermore, studies are conflicted with determining bias in judicial decision support systems [Wikipedia, 2025](https://en.wikipedia.org/wiki/COMPAS_(software)).</p>\n",
    "A study conducted by [Ho et al. (2024)](https://papers.ssrn.com/sol3/papers.cfm?abstract_id=4533047) determined that judicial decision support tools have a significant impact on a judge's decision-making process and while these tools are advertised as being objective, there are studies that indicate racial biases may have been introduced into the algorithms used by these tools that favor white offenders over non-white ones.  This analysis looks to confirm of disprove this assertion.  A study conducted by [ProPublica (2016)](https://www.propublica.org/article/machine-bias-risk-assessments-in-criminal-sentencing)&nbsp;stated that COMPAS is round 68% accurate when predicting recidivism."
   ]
  },
  {
   "cell_type": "markdown",
   "id": "49ee03cb-e6c9-4cde-bd07-e952df84df40",
   "metadata": {},
   "source": [
    "---------------------------------------------------\n",
    "## Import Required Libraries and Packages"
   ]
  },
  {
   "cell_type": "code",
   "execution_count": 1,
   "id": "e070662a-bf5e-47eb-865b-d64712d86917",
   "metadata": {},
   "outputs": [],
   "source": [
    "# Common Imports\n",
    "import pandas as pd\n",
    "import numpy as np\n",
    "import seaborn as sns\n",
    "import matplotlib.pyplot as plt\n",
    "import matplotlib.ticker as mtick\n",
    "import random, datetime\n",
    "\n",
    "# Data Cleaning and Preprocessing\n",
    "from sklearn.impute import KNNImputer\n",
    "from sklearn.model_selection import train_test_split, KFold, cross_val_score\n",
    "from sklearn.model_selection import GridSearchCV\n",
    "from sklearn.preprocessing import LabelEncoder, StandardScaler\n",
    "\n",
    "# Models\n",
    "from sklearn.linear_model import LogisticRegression\n",
    "from sklearn import svm\n",
    "from sklearn.ensemble import RandomForestClassifier\n",
    "\n",
    "# Model Evaluation\n",
    "from sklearn.metrics import accuracy_score, precision_score, recall_score, f1_score\n",
    "from sklearn.metrics import classification_report, confusion_matrix, roc_auc_score\n",
    "from sklearn.metrics import roc_curve\n",
    "\n",
    "# Special Plotting\n",
    "from matplotlib import rcParams, pyplot\n",
    "\n",
    "# Statistical Analysis\n",
    "from scipy import stats\n",
    "\n",
    "# Suppress warnings\n",
    "import warnings\n",
    "warnings.filterwarnings('ignore')\n",
    "\n",
    "# Set seaborn style and autoconfig\n",
    "sns.set_style('whitegrid')\n",
    "rcParams.update({'figure.autolayout': True})\n",
    "\n",
    "# Set random seed\n",
    "random.seed(42)"
   ]
  },
  {
   "cell_type": "markdown",
   "id": "1d3bcabe-413a-4f26-912e-7c1fc70efe09",
   "metadata": {},
   "source": [
    "## Declare Functions"
   ]
  },
  {
   "cell_type": "markdown",
   "id": "d524bf19-2e23-4aef-83ab-80c0ad4fdfb3",
   "metadata": {},
   "source": [
    "**Calculate Rates for Classification Model Performance Evaluation**&nbsp;&nbsp;The *True Positive Rate (TPR)*, *True Negative Rate (TNR)*, *False Positive Rate (FPR)*, and *False Negative Rate (FNR)* are tools used to measure how well a model classifies the classes being predicted."
   ]
  },
  {
   "cell_type": "code",
   "execution_count": 2,
   "id": "10adbf32-0b0b-4142-ae3c-2b2b62f320e8",
   "metadata": {},
   "outputs": [],
   "source": [
    "# Calculate TPR, TNR, FPR, and FNR\n",
    "def calc_rates(cm):\n",
    "    tn, fp, fn, tp = cm.flatten()\n",
    "\n",
    "    # TPR = TP / (TP + FN)\n",
    "    tpr = tp / (tp +fn)\n",
    "    # TNR = TN / (TN + TP)\n",
    "    tnr = tn / (tn + tp)\n",
    "    # FPR = FP / (FP + TN)\n",
    "    fpr = fp / (fp + tn)\n",
    "    # FNR = FN / (FN + TP)\n",
    "    fnr = fn / (fn + tp)\n",
    "    \n",
    "    return tpr, tnr, fpr, fnr"
   ]
  },
  {
   "cell_type": "markdown",
   "id": "1b604426-d644-4a10-9312-4d9070432e9c",
   "metadata": {},
   "source": [
    "**Common Scoring for Classification Models**&nbsp;&nbsp;I will be evaluating more than one model.  This function will provide a common scoring mechanism for them them."
   ]
  },
  {
   "cell_type": "code",
   "execution_count": 3,
   "id": "cae3406b-d30d-4c3a-8686-031e333e2bf4",
   "metadata": {},
   "outputs": [],
   "source": [
    "# Score model\n",
    "def score_model(model, X_train, X_test, y_train, y_test):\n",
    "    my_model = model\n",
    "    my_model = my_model.fit(X_train, y_train)\n",
    "    prediction = my_model.predict(X_test)\n",
    "    train_score = my_model.score(X_train, y_train)\n",
    "    accur_score = accuracy_score(y_test, prediction)\n",
    "    report = classification_report(y_test, prediction)\n",
    "    cm = confusion_matrix(y_test, prediction)\n",
    "    tpr, tnr, fpr, fnr = calc_rates(cm)\n",
    "    \n",
    "    print(f'Model:          {my_model}')\n",
    "    print(report)\n",
    "    print(f'Train Score:    {train_score:.2f}')\n",
    "    print(f'Accuracy Score: {accur_score:.2f}')\n",
    "    print(f'TPR Rate:       {tpr:.2f}')\n",
    "    print(f'TNR Rate:       {tnr:.2f}')\n",
    "    print(f'FPR Rate:       {fpr:.2f}')\n",
    "    print(f'FNR Rate:       {fnr:.2f}')\n",
    "    \n",
    "    return prediction, cm"
   ]
  },
  {
   "cell_type": "markdown",
   "id": "239de7a8-721c-4fa1-b78a-a8003a356b1f",
   "metadata": {},
   "source": [
    "## Read Dataset\n",
    "In 2016 ProPublic conducted a study to identify racial bias in the COMPAS algorithm.  Part of the study examined a two-year follow-up dataset to determine if individuals actually committed crimes or violent offenses during that period.  This study will use the same dataset, but will utilize a logistics regression model to classify the COMPAS risk scores with actual recidivism.  The relevant dataset from the ProPublica repository is being loaded and analyzed.  Repository can be found [here](https://github.com/propublica/compas-analysis)</p>\n",
    "For this study, I selected the `compas-scores-two-years.csv` file.  It contains the original risk score from COMPAS plus a flag that indicates if recidivism was committed by the defendant."
   ]
  },
  {
   "cell_type": "code",
   "execution_count": 4,
   "id": "6f14a083-846b-4234-bbee-7aa6fa3baac4",
   "metadata": {},
   "outputs": [
    {
     "data": {
      "text/html": [
       "<div>\n",
       "<style scoped>\n",
       "    .dataframe tbody tr th:only-of-type {\n",
       "        vertical-align: middle;\n",
       "    }\n",
       "\n",
       "    .dataframe tbody tr th {\n",
       "        vertical-align: top;\n",
       "    }\n",
       "\n",
       "    .dataframe thead th {\n",
       "        text-align: right;\n",
       "    }\n",
       "</style>\n",
       "<table border=\"1\" class=\"dataframe\">\n",
       "  <thead>\n",
       "    <tr style=\"text-align: right;\">\n",
       "      <th></th>\n",
       "      <th>id</th>\n",
       "      <th>name</th>\n",
       "      <th>first</th>\n",
       "      <th>last</th>\n",
       "      <th>compas_screening_date</th>\n",
       "      <th>sex</th>\n",
       "      <th>dob</th>\n",
       "      <th>age</th>\n",
       "      <th>age_cat</th>\n",
       "      <th>race</th>\n",
       "      <th>...</th>\n",
       "      <th>v_decile_score</th>\n",
       "      <th>v_score_text</th>\n",
       "      <th>v_screening_date</th>\n",
       "      <th>in_custody</th>\n",
       "      <th>out_custody</th>\n",
       "      <th>priors_count.1</th>\n",
       "      <th>start</th>\n",
       "      <th>end</th>\n",
       "      <th>event</th>\n",
       "      <th>two_year_recid</th>\n",
       "    </tr>\n",
       "  </thead>\n",
       "  <tbody>\n",
       "    <tr>\n",
       "      <th>0</th>\n",
       "      <td>1</td>\n",
       "      <td>miguel hernandez</td>\n",
       "      <td>miguel</td>\n",
       "      <td>hernandez</td>\n",
       "      <td>2013-08-14</td>\n",
       "      <td>Male</td>\n",
       "      <td>1947-04-18</td>\n",
       "      <td>69</td>\n",
       "      <td>Greater than 45</td>\n",
       "      <td>Other</td>\n",
       "      <td>...</td>\n",
       "      <td>1</td>\n",
       "      <td>Low</td>\n",
       "      <td>2013-08-14</td>\n",
       "      <td>2014-07-07</td>\n",
       "      <td>2014-07-14</td>\n",
       "      <td>0</td>\n",
       "      <td>0</td>\n",
       "      <td>327</td>\n",
       "      <td>0</td>\n",
       "      <td>0</td>\n",
       "    </tr>\n",
       "    <tr>\n",
       "      <th>1</th>\n",
       "      <td>3</td>\n",
       "      <td>kevon dixon</td>\n",
       "      <td>kevon</td>\n",
       "      <td>dixon</td>\n",
       "      <td>2013-01-27</td>\n",
       "      <td>Male</td>\n",
       "      <td>1982-01-22</td>\n",
       "      <td>34</td>\n",
       "      <td>25 - 45</td>\n",
       "      <td>African-American</td>\n",
       "      <td>...</td>\n",
       "      <td>1</td>\n",
       "      <td>Low</td>\n",
       "      <td>2013-01-27</td>\n",
       "      <td>2013-01-26</td>\n",
       "      <td>2013-02-05</td>\n",
       "      <td>0</td>\n",
       "      <td>9</td>\n",
       "      <td>159</td>\n",
       "      <td>1</td>\n",
       "      <td>1</td>\n",
       "    </tr>\n",
       "    <tr>\n",
       "      <th>2</th>\n",
       "      <td>4</td>\n",
       "      <td>ed philo</td>\n",
       "      <td>ed</td>\n",
       "      <td>philo</td>\n",
       "      <td>2013-04-14</td>\n",
       "      <td>Male</td>\n",
       "      <td>1991-05-14</td>\n",
       "      <td>24</td>\n",
       "      <td>Less than 25</td>\n",
       "      <td>African-American</td>\n",
       "      <td>...</td>\n",
       "      <td>3</td>\n",
       "      <td>Low</td>\n",
       "      <td>2013-04-14</td>\n",
       "      <td>2013-06-16</td>\n",
       "      <td>2013-06-16</td>\n",
       "      <td>4</td>\n",
       "      <td>0</td>\n",
       "      <td>63</td>\n",
       "      <td>0</td>\n",
       "      <td>1</td>\n",
       "    </tr>\n",
       "    <tr>\n",
       "      <th>3</th>\n",
       "      <td>5</td>\n",
       "      <td>marcu brown</td>\n",
       "      <td>marcu</td>\n",
       "      <td>brown</td>\n",
       "      <td>2013-01-13</td>\n",
       "      <td>Male</td>\n",
       "      <td>1993-01-21</td>\n",
       "      <td>23</td>\n",
       "      <td>Less than 25</td>\n",
       "      <td>African-American</td>\n",
       "      <td>...</td>\n",
       "      <td>6</td>\n",
       "      <td>Medium</td>\n",
       "      <td>2013-01-13</td>\n",
       "      <td>NaN</td>\n",
       "      <td>NaN</td>\n",
       "      <td>1</td>\n",
       "      <td>0</td>\n",
       "      <td>1174</td>\n",
       "      <td>0</td>\n",
       "      <td>0</td>\n",
       "    </tr>\n",
       "    <tr>\n",
       "      <th>4</th>\n",
       "      <td>6</td>\n",
       "      <td>bouthy pierrelouis</td>\n",
       "      <td>bouthy</td>\n",
       "      <td>pierrelouis</td>\n",
       "      <td>2013-03-26</td>\n",
       "      <td>Male</td>\n",
       "      <td>1973-01-22</td>\n",
       "      <td>43</td>\n",
       "      <td>25 - 45</td>\n",
       "      <td>Other</td>\n",
       "      <td>...</td>\n",
       "      <td>1</td>\n",
       "      <td>Low</td>\n",
       "      <td>2013-03-26</td>\n",
       "      <td>NaN</td>\n",
       "      <td>NaN</td>\n",
       "      <td>2</td>\n",
       "      <td>0</td>\n",
       "      <td>1102</td>\n",
       "      <td>0</td>\n",
       "      <td>0</td>\n",
       "    </tr>\n",
       "  </tbody>\n",
       "</table>\n",
       "<p>5 rows × 53 columns</p>\n",
       "</div>"
      ],
      "text/plain": [
       "   id                name   first         last compas_screening_date   sex  \\\n",
       "0   1    miguel hernandez  miguel    hernandez            2013-08-14  Male   \n",
       "1   3         kevon dixon   kevon        dixon            2013-01-27  Male   \n",
       "2   4            ed philo      ed        philo            2013-04-14  Male   \n",
       "3   5         marcu brown   marcu        brown            2013-01-13  Male   \n",
       "4   6  bouthy pierrelouis  bouthy  pierrelouis            2013-03-26  Male   \n",
       "\n",
       "          dob  age          age_cat              race  ...  v_decile_score  \\\n",
       "0  1947-04-18   69  Greater than 45             Other  ...               1   \n",
       "1  1982-01-22   34          25 - 45  African-American  ...               1   \n",
       "2  1991-05-14   24     Less than 25  African-American  ...               3   \n",
       "3  1993-01-21   23     Less than 25  African-American  ...               6   \n",
       "4  1973-01-22   43          25 - 45             Other  ...               1   \n",
       "\n",
       "   v_score_text  v_screening_date  in_custody  out_custody  priors_count.1  \\\n",
       "0           Low        2013-08-14  2014-07-07   2014-07-14               0   \n",
       "1           Low        2013-01-27  2013-01-26   2013-02-05               0   \n",
       "2           Low        2013-04-14  2013-06-16   2013-06-16               4   \n",
       "3        Medium        2013-01-13         NaN          NaN               1   \n",
       "4           Low        2013-03-26         NaN          NaN               2   \n",
       "\n",
       "  start   end event two_year_recid  \n",
       "0     0   327     0              0  \n",
       "1     9   159     1              1  \n",
       "2     0    63     0              1  \n",
       "3     0  1174     0              0  \n",
       "4     0  1102     0              0  \n",
       "\n",
       "[5 rows x 53 columns]"
      ]
     },
     "execution_count": 4,
     "metadata": {},
     "output_type": "execute_result"
    }
   ],
   "source": [
    "compas_df = pd.read_csv('data/compas-scores-two-years.csv')\n",
    "compas_df.head()"
   ]
  },
  {
   "cell_type": "markdown",
   "id": "dfe54899-2076-4263-a3d0-c70ebc8c978c",
   "metadata": {},
   "source": [
    "## Perform general EDA on the DataFrame"
   ]
  },
  {
   "cell_type": "code",
   "execution_count": 5,
   "id": "b02bae48-d4d3-4a8a-a0b1-f9b8629a956a",
   "metadata": {},
   "outputs": [
    {
     "data": {
      "text/plain": [
       "(7214, 53)"
      ]
     },
     "metadata": {},
     "output_type": "display_data"
    },
    {
     "name": "stdout",
     "output_type": "stream",
     "text": [
      "<class 'pandas.core.frame.DataFrame'>\n",
      "RangeIndex: 7214 entries, 0 to 7213\n",
      "Data columns (total 53 columns):\n",
      " #   Column                   Non-Null Count  Dtype  \n",
      "---  ------                   --------------  -----  \n",
      " 0   id                       7214 non-null   int64  \n",
      " 1   name                     7214 non-null   object \n",
      " 2   first                    7214 non-null   object \n",
      " 3   last                     7214 non-null   object \n",
      " 4   compas_screening_date    7214 non-null   object \n",
      " 5   sex                      7214 non-null   object \n",
      " 6   dob                      7214 non-null   object \n",
      " 7   age                      7214 non-null   int64  \n",
      " 8   age_cat                  7214 non-null   object \n",
      " 9   race                     7214 non-null   object \n",
      " 10  juv_fel_count            7214 non-null   int64  \n",
      " 11  decile_score             7214 non-null   int64  \n",
      " 12  juv_misd_count           7214 non-null   int64  \n",
      " 13  juv_other_count          7214 non-null   int64  \n",
      " 14  priors_count             7214 non-null   int64  \n",
      " 15  days_b_screening_arrest  6907 non-null   float64\n",
      " 16  c_jail_in                6907 non-null   object \n",
      " 17  c_jail_out               6907 non-null   object \n",
      " 18  c_case_number            7192 non-null   object \n",
      " 19  c_offense_date           6055 non-null   object \n",
      " 20  c_arrest_date            1137 non-null   object \n",
      " 21  c_days_from_compas       7192 non-null   float64\n",
      " 22  c_charge_degree          7214 non-null   object \n",
      " 23  c_charge_desc            7185 non-null   object \n",
      " 24  is_recid                 7214 non-null   int64  \n",
      " 25  r_case_number            3471 non-null   object \n",
      " 26  r_charge_degree          3471 non-null   object \n",
      " 27  r_days_from_arrest       2316 non-null   float64\n",
      " 28  r_offense_date           3471 non-null   object \n",
      " 29  r_charge_desc            3413 non-null   object \n",
      " 30  r_jail_in                2316 non-null   object \n",
      " 31  r_jail_out               2316 non-null   object \n",
      " 32  violent_recid            0 non-null      float64\n",
      " 33  is_violent_recid         7214 non-null   int64  \n",
      " 34  vr_case_number           819 non-null    object \n",
      " 35  vr_charge_degree         819 non-null    object \n",
      " 36  vr_offense_date          819 non-null    object \n",
      " 37  vr_charge_desc           819 non-null    object \n",
      " 38  type_of_assessment       7214 non-null   object \n",
      " 39  decile_score.1           7214 non-null   int64  \n",
      " 40  score_text               7214 non-null   object \n",
      " 41  screening_date           7214 non-null   object \n",
      " 42  v_type_of_assessment     7214 non-null   object \n",
      " 43  v_decile_score           7214 non-null   int64  \n",
      " 44  v_score_text             7214 non-null   object \n",
      " 45  v_screening_date         7214 non-null   object \n",
      " 46  in_custody               6978 non-null   object \n",
      " 47  out_custody              6978 non-null   object \n",
      " 48  priors_count.1           7214 non-null   int64  \n",
      " 49  start                    7214 non-null   int64  \n",
      " 50  end                      7214 non-null   int64  \n",
      " 51  event                    7214 non-null   int64  \n",
      " 52  two_year_recid           7214 non-null   int64  \n",
      "dtypes: float64(4), int64(16), object(33)\n",
      "memory usage: 2.9+ MB\n"
     ]
    },
    {
     "data": {
      "text/plain": [
       "None"
      ]
     },
     "metadata": {},
     "output_type": "display_data"
    }
   ],
   "source": [
    "display(compas_df.shape)\n",
    "display(compas_df.info())"
   ]
  },
  {
   "cell_type": "code",
   "execution_count": 6,
   "id": "a48c6d80-4e5a-460b-a97c-4ac9a130a6a7",
   "metadata": {},
   "outputs": [
    {
     "data": {
      "text/plain": [
       "id                            0\n",
       "name                          0\n",
       "first                         0\n",
       "last                          0\n",
       "compas_screening_date         0\n",
       "sex                           0\n",
       "dob                           0\n",
       "age                           0\n",
       "age_cat                       0\n",
       "race                          0\n",
       "juv_fel_count                 0\n",
       "decile_score                  0\n",
       "juv_misd_count                0\n",
       "juv_other_count               0\n",
       "priors_count                  0\n",
       "days_b_screening_arrest     307\n",
       "c_jail_in                   307\n",
       "c_jail_out                  307\n",
       "c_case_number                22\n",
       "c_offense_date             1159\n",
       "c_arrest_date              6077\n",
       "c_days_from_compas           22\n",
       "c_charge_degree               0\n",
       "c_charge_desc                29\n",
       "is_recid                      0\n",
       "r_case_number              3743\n",
       "r_charge_degree            3743\n",
       "r_days_from_arrest         4898\n",
       "r_offense_date             3743\n",
       "r_charge_desc              3801\n",
       "r_jail_in                  4898\n",
       "r_jail_out                 4898\n",
       "violent_recid              7214\n",
       "is_violent_recid              0\n",
       "vr_case_number             6395\n",
       "vr_charge_degree           6395\n",
       "vr_offense_date            6395\n",
       "vr_charge_desc             6395\n",
       "type_of_assessment            0\n",
       "decile_score.1                0\n",
       "score_text                    0\n",
       "screening_date                0\n",
       "v_type_of_assessment          0\n",
       "v_decile_score                0\n",
       "v_score_text                  0\n",
       "v_screening_date              0\n",
       "in_custody                  236\n",
       "out_custody                 236\n",
       "priors_count.1                0\n",
       "start                         0\n",
       "end                           0\n",
       "event                         0\n",
       "two_year_recid                0\n",
       "dtype: int64"
      ]
     },
     "execution_count": 6,
     "metadata": {},
     "output_type": "execute_result"
    }
   ],
   "source": [
    "compas_df.isna().sum()"
   ]
  },
  {
   "cell_type": "markdown",
   "id": "8e613eb5-a914-4ebf-aec4-8d371a63940a",
   "metadata": {},
   "source": [
    "## Data Cleaning"
   ]
  },
  {
   "cell_type": "markdown",
   "id": "62884c72-d287-4d9c-86ac-c51079678e09",
   "metadata": {},
   "source": [
    "There are some columns that are missing a significant amount of data and others that are obviously not required for this study.  I will drop these"
   ]
  },
  {
   "cell_type": "code",
   "execution_count": 7,
   "id": "533b2e93-a762-48bb-87b3-e82e975070e2",
   "metadata": {},
   "outputs": [
    {
     "data": {
      "text/html": [
       "<div>\n",
       "<style scoped>\n",
       "    .dataframe tbody tr th:only-of-type {\n",
       "        vertical-align: middle;\n",
       "    }\n",
       "\n",
       "    .dataframe tbody tr th {\n",
       "        vertical-align: top;\n",
       "    }\n",
       "\n",
       "    .dataframe thead th {\n",
       "        text-align: right;\n",
       "    }\n",
       "</style>\n",
       "<table border=\"1\" class=\"dataframe\">\n",
       "  <thead>\n",
       "    <tr style=\"text-align: right;\">\n",
       "      <th></th>\n",
       "      <th>compas_screening_date</th>\n",
       "      <th>sex</th>\n",
       "      <th>age</th>\n",
       "      <th>race</th>\n",
       "      <th>juv_fel_count</th>\n",
       "      <th>decile_score</th>\n",
       "      <th>juv_misd_count</th>\n",
       "      <th>juv_other_count</th>\n",
       "      <th>priors_count</th>\n",
       "      <th>c_jail_in</th>\n",
       "      <th>...</th>\n",
       "      <th>v_type_of_assessment</th>\n",
       "      <th>v_decile_score</th>\n",
       "      <th>v_screening_date</th>\n",
       "      <th>in_custody</th>\n",
       "      <th>out_custody</th>\n",
       "      <th>priors_count.1</th>\n",
       "      <th>start</th>\n",
       "      <th>end</th>\n",
       "      <th>event</th>\n",
       "      <th>two_year_recid</th>\n",
       "    </tr>\n",
       "  </thead>\n",
       "  <tbody>\n",
       "    <tr>\n",
       "      <th>0</th>\n",
       "      <td>2013-08-14</td>\n",
       "      <td>Male</td>\n",
       "      <td>69</td>\n",
       "      <td>Other</td>\n",
       "      <td>0</td>\n",
       "      <td>1</td>\n",
       "      <td>0</td>\n",
       "      <td>0</td>\n",
       "      <td>0</td>\n",
       "      <td>2013-08-13 06:03:42</td>\n",
       "      <td>...</td>\n",
       "      <td>Risk of Violence</td>\n",
       "      <td>1</td>\n",
       "      <td>2013-08-14</td>\n",
       "      <td>2014-07-07</td>\n",
       "      <td>2014-07-14</td>\n",
       "      <td>0</td>\n",
       "      <td>0</td>\n",
       "      <td>327</td>\n",
       "      <td>0</td>\n",
       "      <td>0</td>\n",
       "    </tr>\n",
       "    <tr>\n",
       "      <th>1</th>\n",
       "      <td>2013-01-27</td>\n",
       "      <td>Male</td>\n",
       "      <td>34</td>\n",
       "      <td>African-American</td>\n",
       "      <td>0</td>\n",
       "      <td>3</td>\n",
       "      <td>0</td>\n",
       "      <td>0</td>\n",
       "      <td>0</td>\n",
       "      <td>2013-01-26 03:45:27</td>\n",
       "      <td>...</td>\n",
       "      <td>Risk of Violence</td>\n",
       "      <td>1</td>\n",
       "      <td>2013-01-27</td>\n",
       "      <td>2013-01-26</td>\n",
       "      <td>2013-02-05</td>\n",
       "      <td>0</td>\n",
       "      <td>9</td>\n",
       "      <td>159</td>\n",
       "      <td>1</td>\n",
       "      <td>1</td>\n",
       "    </tr>\n",
       "    <tr>\n",
       "      <th>2</th>\n",
       "      <td>2013-04-14</td>\n",
       "      <td>Male</td>\n",
       "      <td>24</td>\n",
       "      <td>African-American</td>\n",
       "      <td>0</td>\n",
       "      <td>4</td>\n",
       "      <td>0</td>\n",
       "      <td>1</td>\n",
       "      <td>4</td>\n",
       "      <td>2013-04-13 04:58:34</td>\n",
       "      <td>...</td>\n",
       "      <td>Risk of Violence</td>\n",
       "      <td>3</td>\n",
       "      <td>2013-04-14</td>\n",
       "      <td>2013-06-16</td>\n",
       "      <td>2013-06-16</td>\n",
       "      <td>4</td>\n",
       "      <td>0</td>\n",
       "      <td>63</td>\n",
       "      <td>0</td>\n",
       "      <td>1</td>\n",
       "    </tr>\n",
       "    <tr>\n",
       "      <th>3</th>\n",
       "      <td>2013-01-13</td>\n",
       "      <td>Male</td>\n",
       "      <td>23</td>\n",
       "      <td>African-American</td>\n",
       "      <td>0</td>\n",
       "      <td>8</td>\n",
       "      <td>1</td>\n",
       "      <td>0</td>\n",
       "      <td>1</td>\n",
       "      <td>NaN</td>\n",
       "      <td>...</td>\n",
       "      <td>Risk of Violence</td>\n",
       "      <td>6</td>\n",
       "      <td>2013-01-13</td>\n",
       "      <td>NaN</td>\n",
       "      <td>NaN</td>\n",
       "      <td>1</td>\n",
       "      <td>0</td>\n",
       "      <td>1174</td>\n",
       "      <td>0</td>\n",
       "      <td>0</td>\n",
       "    </tr>\n",
       "    <tr>\n",
       "      <th>4</th>\n",
       "      <td>2013-03-26</td>\n",
       "      <td>Male</td>\n",
       "      <td>43</td>\n",
       "      <td>Other</td>\n",
       "      <td>0</td>\n",
       "      <td>1</td>\n",
       "      <td>0</td>\n",
       "      <td>0</td>\n",
       "      <td>2</td>\n",
       "      <td>NaN</td>\n",
       "      <td>...</td>\n",
       "      <td>Risk of Violence</td>\n",
       "      <td>1</td>\n",
       "      <td>2013-03-26</td>\n",
       "      <td>NaN</td>\n",
       "      <td>NaN</td>\n",
       "      <td>2</td>\n",
       "      <td>0</td>\n",
       "      <td>1102</td>\n",
       "      <td>0</td>\n",
       "      <td>0</td>\n",
       "    </tr>\n",
       "  </tbody>\n",
       "</table>\n",
       "<p>5 rows × 28 columns</p>\n",
       "</div>"
      ],
      "text/plain": [
       "  compas_screening_date   sex  age              race  juv_fel_count  \\\n",
       "0            2013-08-14  Male   69             Other              0   \n",
       "1            2013-01-27  Male   34  African-American              0   \n",
       "2            2013-04-14  Male   24  African-American              0   \n",
       "3            2013-01-13  Male   23  African-American              0   \n",
       "4            2013-03-26  Male   43             Other              0   \n",
       "\n",
       "   decile_score  juv_misd_count  juv_other_count  priors_count  \\\n",
       "0             1               0                0             0   \n",
       "1             3               0                0             0   \n",
       "2             4               0                1             4   \n",
       "3             8               1                0             1   \n",
       "4             1               0                0             2   \n",
       "\n",
       "             c_jail_in  ... v_type_of_assessment  v_decile_score  \\\n",
       "0  2013-08-13 06:03:42  ...     Risk of Violence               1   \n",
       "1  2013-01-26 03:45:27  ...     Risk of Violence               1   \n",
       "2  2013-04-13 04:58:34  ...     Risk of Violence               3   \n",
       "3                  NaN  ...     Risk of Violence               6   \n",
       "4                  NaN  ...     Risk of Violence               1   \n",
       "\n",
       "  v_screening_date  in_custody  out_custody priors_count.1  start   end event  \\\n",
       "0       2013-08-14  2014-07-07   2014-07-14              0      0   327     0   \n",
       "1       2013-01-27  2013-01-26   2013-02-05              0      9   159     1   \n",
       "2       2013-04-14  2013-06-16   2013-06-16              4      0    63     0   \n",
       "3       2013-01-13         NaN          NaN              1      0  1174     0   \n",
       "4       2013-03-26         NaN          NaN              2      0  1102     0   \n",
       "\n",
       "   two_year_recid  \n",
       "0               0  \n",
       "1               1  \n",
       "2               1  \n",
       "3               0  \n",
       "4               0  \n",
       "\n",
       "[5 rows x 28 columns]"
      ]
     },
     "execution_count": 7,
     "metadata": {},
     "output_type": "execute_result"
    }
   ],
   "source": [
    "drop_cols = ['id','name','first','last','dob','age_cat','days_b_screening_arrest',\n",
    "             'c_offense_date','c_arrest_date','r_case_number', 'r_charge_degree',\n",
    "             'r_days_from_arrest','r_offense_date','r_charge_desc','r_jail_in',\n",
    "             'r_jail_out','violent_recid','vr_case_number','vr_charge_degree',\n",
    "             'vr_offense_date','vr_charge_desc','score_text','v_score_text',\n",
    "             'c_case_number','c_charge_desc']\n",
    "compas_df.drop(columns=drop_cols, inplace=True, errors='ignore')\n",
    "compas_df.head()"
   ]
  },
  {
   "cell_type": "code",
   "execution_count": 8,
   "id": "4773fe50-dd97-4b4f-93a7-8d05732af72d",
   "metadata": {},
   "outputs": [
    {
     "data": {
      "text/plain": [
       "(7214, 28)"
      ]
     },
     "execution_count": 8,
     "metadata": {},
     "output_type": "execute_result"
    }
   ],
   "source": [
    "compas_df.shape"
   ]
  },
  {
   "cell_type": "markdown",
   "id": "78c693d9-4b25-450e-bb39-4504b143a65d",
   "metadata": {},
   "source": [
    "### Fix Data Types\n",
    "There are some datetime columns that are being treated as objects.  I will fix those."
   ]
  },
  {
   "cell_type": "code",
   "execution_count": 9,
   "id": "aadf28ac-808c-405e-b94b-eb1d4a8b5466",
   "metadata": {},
   "outputs": [],
   "source": [
    "date_recs = ['c_jail_in','c_jail_out','compas_screening_date','v_screening_date',\n",
    "             'in_custody','out_custody','screening_date']\n",
    "for rec in date_recs:\n",
    "    compas_df[rec] = pd.to_datetime(compas_df[rec])"
   ]
  },
  {
   "cell_type": "markdown",
   "id": "0c9d0dcb-d2b0-4e8b-ae85-08092c88dbae",
   "metadata": {},
   "source": [
    "### Handle missing values."
   ]
  },
  {
   "cell_type": "code",
   "execution_count": 10,
   "id": "9999c9ba-8a02-4b2d-93ef-0c964bf80d47",
   "metadata": {},
   "outputs": [
    {
     "data": {
      "text/plain": [
       "age                      0\n",
       "juv_fel_count            0\n",
       "decile_score             0\n",
       "juv_misd_count           0\n",
       "juv_other_count          0\n",
       "priors_count             0\n",
       "c_days_from_compas       0\n",
       "is_recid                 0\n",
       "is_violent_recid         0\n",
       "decile_score.1           0\n",
       "v_decile_score           0\n",
       "priors_count.1           0\n",
       "start                    0\n",
       "end                      0\n",
       "event                    0\n",
       "two_year_recid           0\n",
       "compas_screening_date    0\n",
       "sex                      0\n",
       "race                     0\n",
       "c_jail_in                0\n",
       "c_jail_out               0\n",
       "c_charge_degree          0\n",
       "type_of_assessment       0\n",
       "screening_date           0\n",
       "v_type_of_assessment     0\n",
       "v_screening_date         0\n",
       "in_custody               0\n",
       "out_custody              0\n",
       "dtype: int64"
      ]
     },
     "execution_count": 10,
     "metadata": {},
     "output_type": "execute_result"
    }
   ],
   "source": [
    "# Handel date columns\n",
    "compas_df.c_jail_in = compas_df.c_jail_in.interpolate(method='linear')\n",
    "compas_df.c_jail_out = compas_df.c_jail_out.interpolate(method='linear')\n",
    "compas_df.v_screening_date = compas_df.v_screening_date.interpolate(method='linear')\n",
    "compas_df.in_custody = compas_df.in_custody.interpolate(method='linear')\n",
    "compas_df.out_custody = compas_df.out_custody.interpolate(method='linear')\n",
    "\n",
    "# Handle numeric columns\n",
    "num_cols = compas_df.select_dtypes(include=['int64','float64']).columns\n",
    "non_num_cols = compas_df.select_dtypes(exclude=['int64','float64']).columns\n",
    "\n",
    "# Create imputer object\n",
    "imputer = KNNImputer(n_neighbors=2)\n",
    "\n",
    "# Impute data.  The KNNImputer returns a series that has to be converted back to a DataFrame\n",
    "imputed_data = imputer.fit_transform(compas_df[num_cols])\n",
    "imputed_df = pd.DataFrame(imputed_data, columns=num_cols)\n",
    "\n",
    "# Concatenate numeric and non-numeric DataFrames\n",
    "compas_df = pd.concat([imputed_df, compas_df[non_num_cols]], axis=1)\n",
    "compas_df.isna().sum()"
   ]
  },
  {
   "cell_type": "markdown",
   "id": "aecba9c4-cd13-410e-8c89-837562344c89",
   "metadata": {},
   "source": [
    "**NOTE** According to the ProPublica article a *decile_score* of -1 means they researchers could not find any COMPAS data on the individual.  I can drop these rows."
   ]
  },
  {
   "cell_type": "code",
   "execution_count": 11,
   "id": "52bae2f0-a8db-4a6a-9a23-b3e410532645",
   "metadata": {},
   "outputs": [
    {
     "data": {
      "text/plain": [
       "np.float64(1.0)"
      ]
     },
     "execution_count": 11,
     "metadata": {},
     "output_type": "execute_result"
    }
   ],
   "source": [
    "compas_df = compas_df.drop(compas_df[compas_df.decile_score == -1].index)\n",
    "compas_df.decile_score.min()"
   ]
  },
  {
   "cell_type": "markdown",
   "id": "490a68b5-e2bc-4195-9503-257323ab24bb",
   "metadata": {},
   "source": [
    "## EDA (Basic)\n",
    "Perform descriptive EDA to understand characteristics of that dataset"
   ]
  },
  {
   "cell_type": "code",
   "execution_count": 12,
   "id": "b736fa1c-ab20-4185-90c6-ec70f9f40415",
   "metadata": {},
   "outputs": [
    {
     "data": {
      "text/html": [
       "<div>\n",
       "<style scoped>\n",
       "    .dataframe tbody tr th:only-of-type {\n",
       "        vertical-align: middle;\n",
       "    }\n",
       "\n",
       "    .dataframe tbody tr th {\n",
       "        vertical-align: top;\n",
       "    }\n",
       "\n",
       "    .dataframe thead th {\n",
       "        text-align: right;\n",
       "    }\n",
       "</style>\n",
       "<table border=\"1\" class=\"dataframe\">\n",
       "  <thead>\n",
       "    <tr style=\"text-align: right;\">\n",
       "      <th></th>\n",
       "      <th>count</th>\n",
       "      <th>mean</th>\n",
       "      <th>min</th>\n",
       "      <th>25%</th>\n",
       "      <th>50%</th>\n",
       "      <th>75%</th>\n",
       "      <th>max</th>\n",
       "      <th>std</th>\n",
       "    </tr>\n",
       "  </thead>\n",
       "  <tbody>\n",
       "    <tr>\n",
       "      <th>age</th>\n",
       "      <td>7214.0</td>\n",
       "      <td>34.817993</td>\n",
       "      <td>18.0</td>\n",
       "      <td>25.0</td>\n",
       "      <td>31.0</td>\n",
       "      <td>42.0</td>\n",
       "      <td>96.0</td>\n",
       "      <td>11.888922</td>\n",
       "    </tr>\n",
       "    <tr>\n",
       "      <th>juv_fel_count</th>\n",
       "      <td>7214.0</td>\n",
       "      <td>0.06723</td>\n",
       "      <td>0.0</td>\n",
       "      <td>0.0</td>\n",
       "      <td>0.0</td>\n",
       "      <td>0.0</td>\n",
       "      <td>20.0</td>\n",
       "      <td>0.473972</td>\n",
       "    </tr>\n",
       "    <tr>\n",
       "      <th>decile_score</th>\n",
       "      <td>7214.0</td>\n",
       "      <td>4.509565</td>\n",
       "      <td>1.0</td>\n",
       "      <td>2.0</td>\n",
       "      <td>4.0</td>\n",
       "      <td>7.0</td>\n",
       "      <td>10.0</td>\n",
       "      <td>2.856396</td>\n",
       "    </tr>\n",
       "    <tr>\n",
       "      <th>juv_misd_count</th>\n",
       "      <td>7214.0</td>\n",
       "      <td>0.090934</td>\n",
       "      <td>0.0</td>\n",
       "      <td>0.0</td>\n",
       "      <td>0.0</td>\n",
       "      <td>0.0</td>\n",
       "      <td>13.0</td>\n",
       "      <td>0.485239</td>\n",
       "    </tr>\n",
       "    <tr>\n",
       "      <th>juv_other_count</th>\n",
       "      <td>7214.0</td>\n",
       "      <td>0.109371</td>\n",
       "      <td>0.0</td>\n",
       "      <td>0.0</td>\n",
       "      <td>0.0</td>\n",
       "      <td>0.0</td>\n",
       "      <td>17.0</td>\n",
       "      <td>0.501586</td>\n",
       "    </tr>\n",
       "    <tr>\n",
       "      <th>priors_count</th>\n",
       "      <td>7214.0</td>\n",
       "      <td>3.472415</td>\n",
       "      <td>0.0</td>\n",
       "      <td>0.0</td>\n",
       "      <td>2.0</td>\n",
       "      <td>5.0</td>\n",
       "      <td>38.0</td>\n",
       "      <td>4.882538</td>\n",
       "    </tr>\n",
       "    <tr>\n",
       "      <th>c_days_from_compas</th>\n",
       "      <td>7214.0</td>\n",
       "      <td>57.767674</td>\n",
       "      <td>0.0</td>\n",
       "      <td>1.0</td>\n",
       "      <td>1.0</td>\n",
       "      <td>2.0</td>\n",
       "      <td>9485.0</td>\n",
       "      <td>329.419377</td>\n",
       "    </tr>\n",
       "    <tr>\n",
       "      <th>is_recid</th>\n",
       "      <td>7214.0</td>\n",
       "      <td>0.481148</td>\n",
       "      <td>0.0</td>\n",
       "      <td>0.0</td>\n",
       "      <td>0.0</td>\n",
       "      <td>1.0</td>\n",
       "      <td>1.0</td>\n",
       "      <td>0.499679</td>\n",
       "    </tr>\n",
       "    <tr>\n",
       "      <th>is_violent_recid</th>\n",
       "      <td>7214.0</td>\n",
       "      <td>0.113529</td>\n",
       "      <td>0.0</td>\n",
       "      <td>0.0</td>\n",
       "      <td>0.0</td>\n",
       "      <td>0.0</td>\n",
       "      <td>1.0</td>\n",
       "      <td>0.317261</td>\n",
       "    </tr>\n",
       "    <tr>\n",
       "      <th>decile_score.1</th>\n",
       "      <td>7214.0</td>\n",
       "      <td>4.509565</td>\n",
       "      <td>1.0</td>\n",
       "      <td>2.0</td>\n",
       "      <td>4.0</td>\n",
       "      <td>7.0</td>\n",
       "      <td>10.0</td>\n",
       "      <td>2.856396</td>\n",
       "    </tr>\n",
       "    <tr>\n",
       "      <th>v_decile_score</th>\n",
       "      <td>7214.0</td>\n",
       "      <td>3.691849</td>\n",
       "      <td>1.0</td>\n",
       "      <td>1.0</td>\n",
       "      <td>3.0</td>\n",
       "      <td>5.0</td>\n",
       "      <td>10.0</td>\n",
       "      <td>2.510148</td>\n",
       "    </tr>\n",
       "    <tr>\n",
       "      <th>priors_count.1</th>\n",
       "      <td>7214.0</td>\n",
       "      <td>3.472415</td>\n",
       "      <td>0.0</td>\n",
       "      <td>0.0</td>\n",
       "      <td>2.0</td>\n",
       "      <td>5.0</td>\n",
       "      <td>38.0</td>\n",
       "      <td>4.882538</td>\n",
       "    </tr>\n",
       "    <tr>\n",
       "      <th>start</th>\n",
       "      <td>7214.0</td>\n",
       "      <td>11.465068</td>\n",
       "      <td>0.0</td>\n",
       "      <td>0.0</td>\n",
       "      <td>0.0</td>\n",
       "      <td>1.0</td>\n",
       "      <td>937.0</td>\n",
       "      <td>46.954563</td>\n",
       "    </tr>\n",
       "    <tr>\n",
       "      <th>end</th>\n",
       "      <td>7214.0</td>\n",
       "      <td>553.436651</td>\n",
       "      <td>0.0</td>\n",
       "      <td>148.25</td>\n",
       "      <td>530.5</td>\n",
       "      <td>914.0</td>\n",
       "      <td>1186.0</td>\n",
       "      <td>399.020583</td>\n",
       "    </tr>\n",
       "    <tr>\n",
       "      <th>event</th>\n",
       "      <td>7214.0</td>\n",
       "      <td>0.382867</td>\n",
       "      <td>0.0</td>\n",
       "      <td>0.0</td>\n",
       "      <td>0.0</td>\n",
       "      <td>1.0</td>\n",
       "      <td>1.0</td>\n",
       "      <td>0.48612</td>\n",
       "    </tr>\n",
       "    <tr>\n",
       "      <th>two_year_recid</th>\n",
       "      <td>7214.0</td>\n",
       "      <td>0.450652</td>\n",
       "      <td>0.0</td>\n",
       "      <td>0.0</td>\n",
       "      <td>0.0</td>\n",
       "      <td>1.0</td>\n",
       "      <td>1.0</td>\n",
       "      <td>0.497593</td>\n",
       "    </tr>\n",
       "    <tr>\n",
       "      <th>compas_screening_date</th>\n",
       "      <td>7214</td>\n",
       "      <td>2013-09-20 10:32:10.246742528</td>\n",
       "      <td>2013-01-01 00:00:00</td>\n",
       "      <td>2013-04-05 00:00:00</td>\n",
       "      <td>2013-09-11 00:00:00</td>\n",
       "      <td>2014-01-24 00:00:00</td>\n",
       "      <td>2014-12-31 00:00:00</td>\n",
       "      <td>NaN</td>\n",
       "    </tr>\n",
       "    <tr>\n",
       "      <th>c_jail_in</th>\n",
       "      <td>7214</td>\n",
       "      <td>2013-09-26 06:13:46.811754752</td>\n",
       "      <td>2013-01-01 01:31:55</td>\n",
       "      <td>2013-04-08 12:39:48</td>\n",
       "      <td>2013-09-12 02:35:15.750000128</td>\n",
       "      <td>2014-01-26 04:40:32.249999872</td>\n",
       "      <td>2016-03-11 10:26:16</td>\n",
       "      <td>NaN</td>\n",
       "    </tr>\n",
       "    <tr>\n",
       "      <th>c_jail_out</th>\n",
       "      <td>7214</td>\n",
       "      <td>2013-10-14 21:21:52.753188352</td>\n",
       "      <td>2013-01-02 01:12:01</td>\n",
       "      <td>2013-04-26 04:13:44.875000064</td>\n",
       "      <td>2013-09-30 08:24:29</td>\n",
       "      <td>2014-02-08 10:08:11</td>\n",
       "      <td>2016-03-12 01:11:40</td>\n",
       "      <td>NaN</td>\n",
       "    </tr>\n",
       "    <tr>\n",
       "      <th>screening_date</th>\n",
       "      <td>7214</td>\n",
       "      <td>2013-09-20 10:32:10.246742528</td>\n",
       "      <td>2013-01-01 00:00:00</td>\n",
       "      <td>2013-04-05 00:00:00</td>\n",
       "      <td>2013-09-11 00:00:00</td>\n",
       "      <td>2014-01-24 00:00:00</td>\n",
       "      <td>2014-12-31 00:00:00</td>\n",
       "      <td>NaN</td>\n",
       "    </tr>\n",
       "    <tr>\n",
       "      <th>v_screening_date</th>\n",
       "      <td>7214</td>\n",
       "      <td>2013-09-20 10:32:10.246742528</td>\n",
       "      <td>2013-01-01 00:00:00</td>\n",
       "      <td>2013-04-05 00:00:00</td>\n",
       "      <td>2013-09-11 00:00:00</td>\n",
       "      <td>2014-01-24 00:00:00</td>\n",
       "      <td>2014-12-31 00:00:00</td>\n",
       "      <td>NaN</td>\n",
       "    </tr>\n",
       "    <tr>\n",
       "      <th>in_custody</th>\n",
       "      <td>7214</td>\n",
       "      <td>2014-01-13 08:04:57.421680128</td>\n",
       "      <td>1992-06-10 00:00:00</td>\n",
       "      <td>2013-06-10 00:00:00</td>\n",
       "      <td>2013-12-15 00:00:00</td>\n",
       "      <td>2014-07-25 00:00:00</td>\n",
       "      <td>2016-04-11 00:00:00</td>\n",
       "      <td>NaN</td>\n",
       "    </tr>\n",
       "    <tr>\n",
       "      <th>out_custody</th>\n",
       "      <td>7214</td>\n",
       "      <td>2014-02-27 20:16:08.117549312</td>\n",
       "      <td>1999-05-08 00:00:00</td>\n",
       "      <td>2013-07-22 06:00:00</td>\n",
       "      <td>2014-01-07 00:00:00</td>\n",
       "      <td>2014-09-02 00:00:00</td>\n",
       "      <td>2020-01-01 00:00:00</td>\n",
       "      <td>NaN</td>\n",
       "    </tr>\n",
       "  </tbody>\n",
       "</table>\n",
       "</div>"
      ],
      "text/plain": [
       "                        count                           mean  \\\n",
       "age                    7214.0                      34.817993   \n",
       "juv_fel_count          7214.0                        0.06723   \n",
       "decile_score           7214.0                       4.509565   \n",
       "juv_misd_count         7214.0                       0.090934   \n",
       "juv_other_count        7214.0                       0.109371   \n",
       "priors_count           7214.0                       3.472415   \n",
       "c_days_from_compas     7214.0                      57.767674   \n",
       "is_recid               7214.0                       0.481148   \n",
       "is_violent_recid       7214.0                       0.113529   \n",
       "decile_score.1         7214.0                       4.509565   \n",
       "v_decile_score         7214.0                       3.691849   \n",
       "priors_count.1         7214.0                       3.472415   \n",
       "start                  7214.0                      11.465068   \n",
       "end                    7214.0                     553.436651   \n",
       "event                  7214.0                       0.382867   \n",
       "two_year_recid         7214.0                       0.450652   \n",
       "compas_screening_date    7214  2013-09-20 10:32:10.246742528   \n",
       "c_jail_in                7214  2013-09-26 06:13:46.811754752   \n",
       "c_jail_out               7214  2013-10-14 21:21:52.753188352   \n",
       "screening_date           7214  2013-09-20 10:32:10.246742528   \n",
       "v_screening_date         7214  2013-09-20 10:32:10.246742528   \n",
       "in_custody               7214  2014-01-13 08:04:57.421680128   \n",
       "out_custody              7214  2014-02-27 20:16:08.117549312   \n",
       "\n",
       "                                       min                            25%  \\\n",
       "age                                   18.0                           25.0   \n",
       "juv_fel_count                          0.0                            0.0   \n",
       "decile_score                           1.0                            2.0   \n",
       "juv_misd_count                         0.0                            0.0   \n",
       "juv_other_count                        0.0                            0.0   \n",
       "priors_count                           0.0                            0.0   \n",
       "c_days_from_compas                     0.0                            1.0   \n",
       "is_recid                               0.0                            0.0   \n",
       "is_violent_recid                       0.0                            0.0   \n",
       "decile_score.1                         1.0                            2.0   \n",
       "v_decile_score                         1.0                            1.0   \n",
       "priors_count.1                         0.0                            0.0   \n",
       "start                                  0.0                            0.0   \n",
       "end                                    0.0                         148.25   \n",
       "event                                  0.0                            0.0   \n",
       "two_year_recid                         0.0                            0.0   \n",
       "compas_screening_date  2013-01-01 00:00:00            2013-04-05 00:00:00   \n",
       "c_jail_in              2013-01-01 01:31:55            2013-04-08 12:39:48   \n",
       "c_jail_out             2013-01-02 01:12:01  2013-04-26 04:13:44.875000064   \n",
       "screening_date         2013-01-01 00:00:00            2013-04-05 00:00:00   \n",
       "v_screening_date       2013-01-01 00:00:00            2013-04-05 00:00:00   \n",
       "in_custody             1992-06-10 00:00:00            2013-06-10 00:00:00   \n",
       "out_custody            1999-05-08 00:00:00            2013-07-22 06:00:00   \n",
       "\n",
       "                                                 50%  \\\n",
       "age                                             31.0   \n",
       "juv_fel_count                                    0.0   \n",
       "decile_score                                     4.0   \n",
       "juv_misd_count                                   0.0   \n",
       "juv_other_count                                  0.0   \n",
       "priors_count                                     2.0   \n",
       "c_days_from_compas                               1.0   \n",
       "is_recid                                         0.0   \n",
       "is_violent_recid                                 0.0   \n",
       "decile_score.1                                   4.0   \n",
       "v_decile_score                                   3.0   \n",
       "priors_count.1                                   2.0   \n",
       "start                                            0.0   \n",
       "end                                            530.5   \n",
       "event                                            0.0   \n",
       "two_year_recid                                   0.0   \n",
       "compas_screening_date            2013-09-11 00:00:00   \n",
       "c_jail_in              2013-09-12 02:35:15.750000128   \n",
       "c_jail_out                       2013-09-30 08:24:29   \n",
       "screening_date                   2013-09-11 00:00:00   \n",
       "v_screening_date                 2013-09-11 00:00:00   \n",
       "in_custody                       2013-12-15 00:00:00   \n",
       "out_custody                      2014-01-07 00:00:00   \n",
       "\n",
       "                                                 75%                  max  \\\n",
       "age                                             42.0                 96.0   \n",
       "juv_fel_count                                    0.0                 20.0   \n",
       "decile_score                                     7.0                 10.0   \n",
       "juv_misd_count                                   0.0                 13.0   \n",
       "juv_other_count                                  0.0                 17.0   \n",
       "priors_count                                     5.0                 38.0   \n",
       "c_days_from_compas                               2.0               9485.0   \n",
       "is_recid                                         1.0                  1.0   \n",
       "is_violent_recid                                 0.0                  1.0   \n",
       "decile_score.1                                   7.0                 10.0   \n",
       "v_decile_score                                   5.0                 10.0   \n",
       "priors_count.1                                   5.0                 38.0   \n",
       "start                                            1.0                937.0   \n",
       "end                                            914.0               1186.0   \n",
       "event                                            1.0                  1.0   \n",
       "two_year_recid                                   1.0                  1.0   \n",
       "compas_screening_date            2014-01-24 00:00:00  2014-12-31 00:00:00   \n",
       "c_jail_in              2014-01-26 04:40:32.249999872  2016-03-11 10:26:16   \n",
       "c_jail_out                       2014-02-08 10:08:11  2016-03-12 01:11:40   \n",
       "screening_date                   2014-01-24 00:00:00  2014-12-31 00:00:00   \n",
       "v_screening_date                 2014-01-24 00:00:00  2014-12-31 00:00:00   \n",
       "in_custody                       2014-07-25 00:00:00  2016-04-11 00:00:00   \n",
       "out_custody                      2014-09-02 00:00:00  2020-01-01 00:00:00   \n",
       "\n",
       "                              std  \n",
       "age                     11.888922  \n",
       "juv_fel_count            0.473972  \n",
       "decile_score             2.856396  \n",
       "juv_misd_count           0.485239  \n",
       "juv_other_count          0.501586  \n",
       "priors_count             4.882538  \n",
       "c_days_from_compas     329.419377  \n",
       "is_recid                 0.499679  \n",
       "is_violent_recid         0.317261  \n",
       "decile_score.1           2.856396  \n",
       "v_decile_score           2.510148  \n",
       "priors_count.1           4.882538  \n",
       "start                   46.954563  \n",
       "end                    399.020583  \n",
       "event                     0.48612  \n",
       "two_year_recid           0.497593  \n",
       "compas_screening_date         NaN  \n",
       "c_jail_in                     NaN  \n",
       "c_jail_out                    NaN  \n",
       "screening_date                NaN  \n",
       "v_screening_date              NaN  \n",
       "in_custody                    NaN  \n",
       "out_custody                   NaN  "
      ]
     },
     "execution_count": 12,
     "metadata": {},
     "output_type": "execute_result"
    }
   ],
   "source": [
    "# Summary of descriptive statistics of dataset\n",
    "compas_df.describe().T"
   ]
  },
  {
   "cell_type": "code",
   "execution_count": 13,
   "id": "743a1aa6-ab37-4707-9d7b-36e27a3b1cae",
   "metadata": {},
   "outputs": [
    {
     "data": {
      "text/plain": [
       "is_recid\n",
       "0.0    3743\n",
       "1.0    3471\n",
       "Name: count, dtype: int64"
      ]
     },
     "metadata": {},
     "output_type": "display_data"
    },
    {
     "data": {
      "text/plain": [
       "is_violent_recid\n",
       "0.0    6395\n",
       "1.0     819\n",
       "Name: count, dtype: int64"
      ]
     },
     "metadata": {},
     "output_type": "display_data"
    },
    {
     "data": {
      "text/plain": [
       "two_year_recid\n",
       "0.0    3963\n",
       "1.0    3251\n",
       "Name: count, dtype: int64"
      ]
     },
     "metadata": {},
     "output_type": "display_data"
    }
   ],
   "source": [
    "display(compas_df['is_recid'].value_counts())\n",
    "display(compas_df['is_violent_recid'].value_counts())\n",
    "display(compas_df['two_year_recid'].value_counts())"
   ]
  },
  {
   "cell_type": "code",
   "execution_count": 14,
   "id": "e0b4b5c1-8791-46c1-96e6-f51b70a1cb9b",
   "metadata": {},
   "outputs": [
    {
     "data": {
      "text/plain": [
       "race              two_year_recid\n",
       "African-American  1.0               26.35\n",
       "                  0.0               24.88\n",
       "Caucasian         0.0               20.63\n",
       "                  1.0               13.39\n",
       "Hispanic          0.0                5.61\n",
       "Other             0.0                3.38\n",
       "Hispanic          1.0                3.22\n",
       "Other             1.0                1.84\n",
       "Asian             0.0                0.32\n",
       "Native American   1.0                0.14\n",
       "Asian             1.0                0.12\n",
       "Native American   0.0                0.11\n",
       "Name: proportion, dtype: float64"
      ]
     },
     "execution_count": 14,
     "metadata": {},
     "output_type": "execute_result"
    }
   ],
   "source": [
    "compas_df[['race','two_year_recid']].value_counts(normalize=True).mul(100).round(2)"
   ]
  },
  {
   "cell_type": "code",
   "execution_count": 15,
   "id": "130b13c0-342b-49db-b2ce-989e143cfcdd",
   "metadata": {},
   "outputs": [
    {
     "data": {
      "text/plain": [
       "race              decile_score  two_year_recid\n",
       "Caucasian         1.0           0.0               7.47\n",
       "African-American  1.0           0.0               4.26\n",
       "                  2.0           0.0               3.80\n",
       "                  9.0           1.0               3.73\n",
       "Caucasian         2.0           0.0               3.44\n",
       "                                                  ... \n",
       "Native American   3.0           0.0               0.01\n",
       "                  4.0           1.0               0.01\n",
       "                  6.0           0.0               0.01\n",
       "                                1.0               0.01\n",
       "                  7.0           0.0               0.01\n",
       "Name: proportion, Length: 103, dtype: float64"
      ]
     },
     "execution_count": 15,
     "metadata": {},
     "output_type": "execute_result"
    }
   ],
   "source": [
    "compas_df[['race','decile_score','two_year_recid']].value_counts(normalize=True).mul(100).round(2)"
   ]
  },
  {
   "cell_type": "markdown",
   "id": "ae48d2da-2b1d-4aea-9fc5-0c56958f0791",
   "metadata": {},
   "source": [
    "### Statistical Note\n",
    "Some of the racial populations represented in this study are too small to be of value and may skew some of the statistical test that will be performed.  I will obtain the number of records for each group and exclude the ones that are under 32 rows.  According to my old Stats textbook (1990's) we should have at least 32 observations for the population to be useful."
   ]
  },
  {
   "cell_type": "code",
   "execution_count": 16,
   "id": "43976944-a128-4ba0-9163-06df30aaedf5",
   "metadata": {},
   "outputs": [
    {
     "name": "stdout",
     "output_type": "stream",
     "text": [
      "African-American\n"
     ]
    },
    {
     "data": {
      "text/plain": [
       "3696"
      ]
     },
     "metadata": {},
     "output_type": "display_data"
    },
    {
     "name": "stdout",
     "output_type": "stream",
     "text": [
      "Asian\n"
     ]
    },
    {
     "data": {
      "text/plain": [
       "32"
      ]
     },
     "metadata": {},
     "output_type": "display_data"
    },
    {
     "name": "stdout",
     "output_type": "stream",
     "text": [
      "Caucasian\n"
     ]
    },
    {
     "data": {
      "text/plain": [
       "2454"
      ]
     },
     "metadata": {},
     "output_type": "display_data"
    },
    {
     "name": "stdout",
     "output_type": "stream",
     "text": [
      "Hispanic\n"
     ]
    },
    {
     "data": {
      "text/plain": [
       "637"
      ]
     },
     "metadata": {},
     "output_type": "display_data"
    },
    {
     "name": "stdout",
     "output_type": "stream",
     "text": [
      "Other\n"
     ]
    },
    {
     "data": {
      "text/plain": [
       "377"
      ]
     },
     "metadata": {},
     "output_type": "display_data"
    },
    {
     "name": "stdout",
     "output_type": "stream",
     "text": [
      "Native American\n"
     ]
    },
    {
     "data": {
      "text/plain": [
       "18"
      ]
     },
     "metadata": {},
     "output_type": "display_data"
    }
   ],
   "source": [
    "groups = ['African-American','Asian','Caucasian','Hispanic','Other','Native American']\n",
    "for group in groups:\n",
    "    print(group)\n",
    "    display(len(compas_df[compas_df['race'] == group]))"
   ]
  },
  {
   "cell_type": "markdown",
   "id": "2b9da258-cfa9-4a7b-a57f-cd4799680fb3",
   "metadata": {},
   "source": [
    "The *Asian* and *Native American* groups are really underrepresented.  I will move them into the *Other* group."
   ]
  },
  {
   "cell_type": "code",
   "execution_count": 17,
   "id": "cd0b9fe5-8de8-4e92-804f-5273c0a1b754",
   "metadata": {},
   "outputs": [],
   "source": [
    "compas_df.race.replace({'Asian':'Other','Native American':'Other'}, inplace=True)"
   ]
  },
  {
   "cell_type": "markdown",
   "id": "c8bb6d45-a8a4-4186-a031-adc791e0df74",
   "metadata": {},
   "source": [
    "**Outliers** Identify outliers"
   ]
  },
  {
   "cell_type": "code",
   "execution_count": 18,
   "id": "6ff9ef3b-901a-44a5-a26b-6bb0bb596edb",
   "metadata": {},
   "outputs": [
    {
     "data": {
      "image/png": "[encoded data removed]",
      "text/plain": [
       "<Figure size 1000x600 with 1 Axes>"
      ]
     },
     "metadata": {},
     "output_type": "display_data"
    }
   ],
   "source": [
    "plt.figure(figsize=(10,6))\n",
    "sns.boxplot(data=compas_df, x='race', y='decile_score')\n",
    "plt.title('Distribution of Decile (risk) Scores by Race')\n",
    "plt.xlabel('Race')\n",
    "plt.ylabel('Decile Score')\n",
    "plt.savefig('figures/boxplotDecileRace.png', bbox_inches='tight', dpi=300) \n",
    "plt.show()"
   ]
  },
  {
   "cell_type": "markdown",
   "id": "2f7b1677-65e7-482f-a204-ca0695445e7e",
   "metadata": {},
   "source": [
    "At this time I am not concerned with the outliers identified in the `Other` group."
   ]
  },
  {
   "cell_type": "markdown",
   "id": "6cef1064-f701-446c-ba56-a73c2632ca84",
   "metadata": {},
   "source": [
    "### Descriptive Plots"
   ]
  },
  {
   "cell_type": "code",
   "execution_count": 19,
   "id": "26201169-e2fd-48d2-9ee9-ef88d621b3f2",
   "metadata": {},
   "outputs": [
    {
     "data": {
      "image/png": "[encoded data removed]",
      "text/plain": [
       "<Figure size 1000x800 with 1 Axes>"
      ]
     },
     "metadata": {},
     "output_type": "display_data"
    }
   ],
   "source": [
    "fig, ax = plt.subplots(figsize=(10,8))\n",
    "ax.set(xlabel='age', ylabel='Count', title='Age Distribution')\n",
    "sns.histplot(compas_df, x='age', kde=True)\n",
    "plt.tight_layout()\n",
    "plt.show()\n",
    "fig.savefig('./figures/ageDistribution.png', bbox_inches='tight', dpi=300)"
   ]
  },
  {
   "cell_type": "code",
   "execution_count": 20,
   "id": "45a2306b-45de-41ab-91e4-8c5647557ffd",
   "metadata": {},
   "outputs": [
    {
     "data": {
      "text/plain": [
       "race\n",
       "African-American    51.233712\n",
       "Caucasian           34.017189\n",
       "Hispanic             8.830053\n",
       "Other                5.919046\n",
       "Name: proportion, dtype: float64"
      ]
     },
     "execution_count": 20,
     "metadata": {},
     "output_type": "execute_result"
    }
   ],
   "source": [
    "compas_df['race'].value_counts(normalize=True).mul(100).sort_values(ascending=False)"
   ]
  },
  {
   "cell_type": "code",
   "execution_count": 21,
   "id": "deafed78-1b10-4ea6-8109-4810e445baec",
   "metadata": {},
   "outputs": [
    {
     "data": {
      "image/png": "[encoded data removed]",
      "text/plain": [
       "<Figure size 1000x800 with 1 Axes>"
      ]
     },
     "metadata": {},
     "output_type": "display_data"
    }
   ],
   "source": [
    "race_percentage = compas_df['race'].value_counts(normalize=True).mul(100).sort_values(ascending=False)\n",
    "fig, ax = plt.subplots(figsize=(10,8))\n",
    "ax.set(xlabel='Race', ylabel='Percentage', title='Distribution of Racial Groups (Percent of Defendant Population)')\n",
    "sns.barplot(x=race_percentage.index, y=race_percentage.values, palette='rocket')\n",
    "for container in ax.containers:\n",
    "    ax.bar_label(container, fmt='{:,.2f}%')\n",
    "plt.tight_layout()\n",
    "plt.show()\n",
    "fig.savefig('./figures/distributionRacialGroups.png', bbox_inches='tight', dpi=300)"
   ]
  },
  {
   "cell_type": "code",
   "execution_count": 22,
   "id": "a30df2de-5935-40c6-ab0d-53f3d8306fd6",
   "metadata": {},
   "outputs": [
    {
     "data": {
      "image/png": "[encoded data removed]",
      "text/plain": [
       "<Figure size 1000x800 with 1 Axes>"
      ]
     },
     "metadata": {},
     "output_type": "display_data"
    }
   ],
   "source": [
    "recivid = compas_df[compas_df['is_recid'] == 1]\n",
    "\n",
    "fig, ax = plt.subplots(figsize=(10,8))\n",
    "ax.yaxis.set_major_formatter(mtick.StrMethodFormatter('{x:,.0f}'))\n",
    "ax.set(xlabel='Race', ylabel='Number of Instances', title='Recidivism Instances by Race and Sex')\n",
    "sns.countplot(recivid, x='race', hue='sex', hue_order=['Male','Female'])\n",
    "\n",
    "for container in ax.containers:\n",
    "    ax.bar_label(container, fmt='{:,.0f}')\n",
    "\n",
    "plt.tight_layout()\n",
    "plt.legend(title='Sex')\n",
    "plt.xticks(rotation=45)\n",
    "plt.show()\n",
    "fig.savefig('./figures/recidivismByRaceSex.png', bbox_inches='tight', dpi=300)"
   ]
  },
  {
   "cell_type": "code",
   "execution_count": 23,
   "id": "8ab9d1c8-4bc9-4d57-bdc9-a4fbb56023fc",
   "metadata": {},
   "outputs": [
    {
     "data": {
      "image/png": "[encoded data removed]",
      "text/plain": [
       "<Figure size 1400x600 with 4 Axes>"
      ]
     },
     "metadata": {},
     "output_type": "display_data"
    }
   ],
   "source": [
    "groups = ['African-American','Caucasian','Hispanic','Other']\n",
    "\n",
    "fig, ax = plt.subplots(1, 4, figsize=(14,6))\n",
    "ax = ax.flatten()\n",
    "\n",
    "for i, race in enumerate(groups):\n",
    "    race_data = compas_df[compas_df['race'] == race]\n",
    "    sns.countplot(data=race_data, x='decile_score', ax=ax[i], palette='rocket')\n",
    "    ax[i].set_title(race)\n",
    "    ax[i].set_xlabel('Decile Score')\n",
    "    ax[i].set_ylabel('Count')\n",
    "\n",
    "fig.suptitle('Frequency of Decile Scores by Race')\n",
    "plt.tight_layout()\n",
    "plt.show()\n",
    "fig.savefig('./figures/freqDecileByRace.png', bbox_inches='tight', dpi=300)"
   ]
  },
  {
   "cell_type": "markdown",
   "id": "17b805ac-52a9-4541-bb0a-267f27d45c49",
   "metadata": {},
   "source": [
    "### ProPublica Note\n",
    "According to the 2016 ProPublica article on COMPAS the plots below prove that COMPAS is biased against African Americans since they receive higher decile (risk) scores than the other racial groups."
   ]
  },
  {
   "cell_type": "code",
   "execution_count": 24,
   "id": "b386f380-5bf6-40b6-aa3e-c04ddbf20be7",
   "metadata": {},
   "outputs": [
    {
     "data": {
      "image/png": "[encoded data removed]",
      "text/plain": [
       "<Figure size 1400x600 with 3 Axes>"
      ]
     },
     "metadata": {},
     "output_type": "display_data"
    }
   ],
   "source": [
    "groups = ['African-American','Caucasian','Hispanic']\n",
    "\n",
    "fig, ax = plt.subplots(1, 3, figsize=(14,6))\n",
    "ax = ax.flatten()\n",
    "\n",
    "for i, race in enumerate(groups):\n",
    "    race_data = compas_df[compas_df['race'] == race]\n",
    "    sns.countplot(data=race_data, x='decile_score', ax=ax[i], palette='rocket')\n",
    "    ax[i].set_title(race)\n",
    "    ax[i].set_xlabel('Decile Score')\n",
    "    ax[i].set_ylabel('Count')\n",
    "\n",
    "fig.suptitle('Frequency of Decile Scores by Race')\n",
    "plt.tight_layout()\n",
    "plt.show()\n",
    "fig.savefig('./figures/freqDecileByRaceFiltered.png', bbox_inches='tight', dpi=300)"
   ]
  },
  {
   "cell_type": "code",
   "execution_count": 25,
   "id": "8fff750b-2e9c-4f30-a772-63ca70b08835",
   "metadata": {},
   "outputs": [
    {
     "data": {
      "text/plain": [
       "two_year_recid\n",
       "1.0    1901\n",
       "Name: count, dtype: int64"
      ]
     },
     "metadata": {},
     "output_type": "display_data"
    },
    {
     "data": {
      "text/plain": [
       "two_year_recid\n",
       "1.0    966\n",
       "Name: count, dtype: int64"
      ]
     },
     "metadata": {},
     "output_type": "display_data"
    }
   ],
   "source": [
    "display(compas_df[(compas_df.race == 'African-American') & \\\n",
    "                  (compas_df.two_year_recid == 1)]['two_year_recid'].value_counts())\n",
    "display(compas_df[(compas_df.race == 'Caucasian') & \\\n",
    "                  (compas_df.two_year_recid == 1)]['two_year_recid'].value_counts())"
   ]
  },
  {
   "cell_type": "code",
   "execution_count": 26,
   "id": "f61f7d4e-aa21-4000-820f-971b80d6ce78",
   "metadata": {},
   "outputs": [
    {
     "data": {
      "image/png": "[encoded data removed]",
      "text/plain": [
       "<Figure size 1000x800 with 1 Axes>"
      ]
     },
     "metadata": {},
     "output_type": "display_data"
    }
   ],
   "source": [
    "fig, ax = plt.subplots(figsize=(10,8))\n",
    "order = ['African-American','Caucasian','Hispanic','Other']\n",
    "ax.yaxis.set_major_formatter(mtick.StrMethodFormatter('{x:,.0f}'))\n",
    "ax.set(xlabel='Race', ylabel='Number of Cases', title='Number of Cases by Race and Gender')\n",
    "sns.countplot(compas_df, x='race', hue='sex', order=order)\n",
    "\n",
    "for container in ax.containers:\n",
    "    ax.bar_label(container, fmt='{:,.0f}')\n",
    "    \n",
    "plt.legend(title='Gender')\n",
    "plt.savefig('figures/caseRaceGender.png', bbox_inches='tight', dpi=300)\n",
    "plt.show()"
   ]
  },
  {
   "cell_type": "markdown",
   "id": "704d7e84-187f-4b74-a115-8a71f63114b8",
   "metadata": {},
   "source": [
    "### Further Statistical Analysis"
   ]
  },
  {
   "cell_type": "code",
   "execution_count": 27,
   "id": "6c3eff17-e2cd-4d3f-b4d9-7e3e08a22310",
   "metadata": {},
   "outputs": [
    {
     "data": {
      "text/html": [
       "<div>\n",
       "<style scoped>\n",
       "    .dataframe tbody tr th:only-of-type {\n",
       "        vertical-align: middle;\n",
       "    }\n",
       "\n",
       "    .dataframe tbody tr th {\n",
       "        vertical-align: top;\n",
       "    }\n",
       "\n",
       "    .dataframe thead tr th {\n",
       "        text-align: left;\n",
       "    }\n",
       "</style>\n",
       "<table border=\"1\" class=\"dataframe\">\n",
       "  <thead>\n",
       "    <tr>\n",
       "      <th></th>\n",
       "      <th>race</th>\n",
       "      <th colspan=\"2\" halign=\"left\">decile_score</th>\n",
       "    </tr>\n",
       "    <tr>\n",
       "      <th></th>\n",
       "      <th></th>\n",
       "      <th>mean</th>\n",
       "      <th>std</th>\n",
       "    </tr>\n",
       "  </thead>\n",
       "  <tbody>\n",
       "    <tr>\n",
       "      <th>0</th>\n",
       "      <td>African-American</td>\n",
       "      <td>5.368777</td>\n",
       "      <td>2.831122</td>\n",
       "    </tr>\n",
       "    <tr>\n",
       "      <th>1</th>\n",
       "      <td>Caucasian</td>\n",
       "      <td>3.735126</td>\n",
       "      <td>2.597926</td>\n",
       "    </tr>\n",
       "    <tr>\n",
       "      <th>2</th>\n",
       "      <td>Hispanic</td>\n",
       "      <td>3.463108</td>\n",
       "      <td>2.599100</td>\n",
       "    </tr>\n",
       "    <tr>\n",
       "      <th>3</th>\n",
       "      <td>Other</td>\n",
       "      <td>3.084309</td>\n",
       "      <td>2.478530</td>\n",
       "    </tr>\n",
       "  </tbody>\n",
       "</table>\n",
       "</div>"
      ],
      "text/plain": [
       "               race decile_score          \n",
       "                            mean       std\n",
       "0  African-American     5.368777  2.831122\n",
       "1         Caucasian     3.735126  2.597926\n",
       "2          Hispanic     3.463108  2.599100\n",
       "3             Other     3.084309  2.478530"
      ]
     },
     "execution_count": 27,
     "metadata": {},
     "output_type": "execute_result"
    }
   ],
   "source": [
    "compas_df.groupby('race').agg({'decile_score': ['mean','std']}).reset_index()"
   ]
  },
  {
   "cell_type": "code",
   "execution_count": 28,
   "id": "c9916d45-37e6-4213-816c-fdc39670578f",
   "metadata": {},
   "outputs": [
    {
     "data": {
      "text/plain": [
       "race\n",
       "African-American    1901.0\n",
       "Caucasian            966.0\n",
       "Hispanic             232.0\n",
       "Other                152.0\n",
       "Name: two_year_recid, dtype: float64"
      ]
     },
     "execution_count": 28,
     "metadata": {},
     "output_type": "execute_result"
    }
   ],
   "source": [
    "compas_df.groupby('race')['two_year_recid'].sum()"
   ]
  },
  {
   "cell_type": "code",
   "execution_count": null,
   "id": "c56616e2-080b-4736-bdbb-e5c97626be81",
   "metadata": {},
   "outputs": [],
   "source": []
  },
  {
   "cell_type": "markdown",
   "id": "961bf0d1-962b-4f37-bcdd-58334b58e015",
   "metadata": {},
   "source": [
    "**ANOVA**  The ProPublica 2016 article on COMPAS based its findings of bias on the number of high *decile_scores* assigned to African-Americans when compared to other groups.  The one_way ANOVA (***Analysis of Variance***) test is used to test if the mean of two or more *independent* groups are significantly different.  The *P-Value* of < 0.05 indicates the groups' means are significantly different; therefore, the null hypothesis is rejected and ProPublica's findings are verified."
   ]
  },
  {
   "cell_type": "code",
   "execution_count": 29,
   "id": "d9910e53-843d-454b-8893-40d7ffb8b78c",
   "metadata": {},
   "outputs": [
    {
     "name": "stdout",
     "output_type": "stream",
     "text": [
      "F-statistic:  261.01168051564656\n",
      "P-value:      8.089670291495388e-161\n",
      "Null hypothesis is rejected\n"
     ]
    }
   ],
   "source": [
    "# Normalize decile_score using Min-Max method\n",
    "compas_df['normalized'] = compas_df.groupby('race')['decile_score']. \\\n",
    "          transform(lambda x: (x - x.min()) / (x.max() - x.min()))\n",
    "\n",
    "# group by race on the normalized value\n",
    "groups = compas_df.groupby('race')['normalized'].apply(list)\n",
    "\n",
    "# Perform the oneway ANOVA test\n",
    "f_stat, p_val = stats.f_oneway(*groups)\n",
    "\n",
    "# Print results\n",
    "print('F-statistic: ',f_stat)\n",
    "print('P-value:     ',p_val)\n",
    "if p_val < 0.05:\n",
    "    print('Null hypothesis is rejected')"
   ]
  },
  {
   "cell_type": "code",
   "execution_count": 30,
   "id": "a63394e2-68d7-4297-ad73-e255b6b95d5e",
   "metadata": {},
   "outputs": [],
   "source": [
    "# Since the decile_score feature has been normalized\n",
    "# into a new column, it is no longer required\n",
    "compas_df.drop(columns=['decile_score'], axis=1, inplace=True)"
   ]
  },
  {
   "cell_type": "code",
   "execution_count": 31,
   "id": "acb82012-41b6-4cd4-bae0-d1a60e3a328c",
   "metadata": {},
   "outputs": [
    {
     "data": {
      "text/plain": [
       "Index(['compas_screening_date', 'c_jail_in', 'c_jail_out', 'screening_date',\n",
       "       'v_screening_date', 'in_custody', 'out_custody'],\n",
       "      dtype='object')"
      ]
     },
     "execution_count": 31,
     "metadata": {},
     "output_type": "execute_result"
    }
   ],
   "source": [
    "# Get a list of datetime columns\n",
    "date_cols = compas_df.select_dtypes(include=['datetime64']).columns\n",
    "date_cols"
   ]
  },
  {
   "cell_type": "markdown",
   "id": "0a61b2bf-9d78-4344-a0e0-1338fce0a43a",
   "metadata": {},
   "source": [
    "### Prepare DataFrame for Model Training"
   ]
  },
  {
   "cell_type": "code",
   "execution_count": 32,
   "id": "8cb5628a-9747-46cd-b1bb-505b9d7bce0f",
   "metadata": {},
   "outputs": [],
   "source": [
    "# Convert datetime fields to Unix epoch\n",
    "compas_df['jail_in_epoch'] = compas_df.c_jail_in.astype(np.int64) // 10**9\n",
    "compas_df['jail_out_epoch'] = compas_df.c_jail_out.astype(np.int64) // 10**9\n",
    "compas_df['in_cust_epoch'] = compas_df.in_custody.astype(np.int64) // 10**9\n",
    "compas_df['out_cust_epoch'] = compas_df.out_custody.astype(np.int64) // 10**9\n",
    "compas_df['scn_date_epoch'] = compas_df.screening_date.astype(np.int64) // 10**9\n",
    "compas_df['com_date_epoch'] = compas_df.compas_screening_date.astype(np.int64) // 10**9\n",
    "compas_df['v_scn_date_epoch'] = compas_df.v_screening_date.astype(np.int64) // 10**9"
   ]
  },
  {
   "cell_type": "code",
   "execution_count": 33,
   "id": "e41963ad-b3ca-44d7-96d8-2d06e757da06",
   "metadata": {},
   "outputs": [
    {
     "data": {
      "text/html": [
       "<div>\n",
       "<style scoped>\n",
       "    .dataframe tbody tr th:only-of-type {\n",
       "        vertical-align: middle;\n",
       "    }\n",
       "\n",
       "    .dataframe tbody tr th {\n",
       "        vertical-align: top;\n",
       "    }\n",
       "\n",
       "    .dataframe thead th {\n",
       "        text-align: right;\n",
       "    }\n",
       "</style>\n",
       "<table border=\"1\" class=\"dataframe\">\n",
       "  <thead>\n",
       "    <tr style=\"text-align: right;\">\n",
       "      <th></th>\n",
       "      <th>jail_in_epoch</th>\n",
       "      <th>jail_out_epoch</th>\n",
       "      <th>in_cust_epoch</th>\n",
       "      <th>out_cust_epoch</th>\n",
       "      <th>scn_date_epoch</th>\n",
       "      <th>com_date_epoch</th>\n",
       "      <th>v_scn_date_epoch</th>\n",
       "    </tr>\n",
       "  </thead>\n",
       "  <tbody>\n",
       "    <tr>\n",
       "      <th>6261</th>\n",
       "      <td>1358069777</td>\n",
       "      <td>1358246484</td>\n",
       "      <td>1373500800</td>\n",
       "      <td>1401926400</td>\n",
       "      <td>1358121600</td>\n",
       "      <td>1358121600</td>\n",
       "      <td>1358121600</td>\n",
       "    </tr>\n",
       "    <tr>\n",
       "      <th>5837</th>\n",
       "      <td>1379142924</td>\n",
       "      <td>1379303232</td>\n",
       "      <td>1379116800</td>\n",
       "      <td>1379289600</td>\n",
       "      <td>1379203200</td>\n",
       "      <td>1379203200</td>\n",
       "      <td>1379203200</td>\n",
       "    </tr>\n",
       "    <tr>\n",
       "      <th>6856</th>\n",
       "      <td>1359445926</td>\n",
       "      <td>1359509781</td>\n",
       "      <td>1366588800</td>\n",
       "      <td>1367107200</td>\n",
       "      <td>1359504000</td>\n",
       "      <td>1359504000</td>\n",
       "      <td>1359504000</td>\n",
       "    </tr>\n",
       "    <tr>\n",
       "      <th>5134</th>\n",
       "      <td>1378292767</td>\n",
       "      <td>1378367681</td>\n",
       "      <td>1378252800</td>\n",
       "      <td>1378339200</td>\n",
       "      <td>1378339200</td>\n",
       "      <td>1378339200</td>\n",
       "      <td>1378339200</td>\n",
       "    </tr>\n",
       "    <tr>\n",
       "      <th>5274</th>\n",
       "      <td>1359349576</td>\n",
       "      <td>1359859843</td>\n",
       "      <td>1372464000</td>\n",
       "      <td>1392681600</td>\n",
       "      <td>1359331200</td>\n",
       "      <td>1359331200</td>\n",
       "      <td>1359331200</td>\n",
       "    </tr>\n",
       "    <tr>\n",
       "      <th>5906</th>\n",
       "      <td>1368063972</td>\n",
       "      <td>1368187814</td>\n",
       "      <td>1368057600</td>\n",
       "      <td>1368144000</td>\n",
       "      <td>1368057600</td>\n",
       "      <td>1368057600</td>\n",
       "      <td>1368057600</td>\n",
       "    </tr>\n",
       "    <tr>\n",
       "      <th>4808</th>\n",
       "      <td>1374234928</td>\n",
       "      <td>1377233002</td>\n",
       "      <td>1374192000</td>\n",
       "      <td>1377216000</td>\n",
       "      <td>1369440000</td>\n",
       "      <td>1369440000</td>\n",
       "      <td>1369440000</td>\n",
       "    </tr>\n",
       "    <tr>\n",
       "      <th>6092</th>\n",
       "      <td>1395400446</td>\n",
       "      <td>1395636504</td>\n",
       "      <td>1395360000</td>\n",
       "      <td>1395619200</td>\n",
       "      <td>1395446400</td>\n",
       "      <td>1395446400</td>\n",
       "      <td>1395446400</td>\n",
       "    </tr>\n",
       "    <tr>\n",
       "      <th>1640</th>\n",
       "      <td>1392192366</td>\n",
       "      <td>1392280196</td>\n",
       "      <td>1395878400</td>\n",
       "      <td>1396051200</td>\n",
       "      <td>1392249600</td>\n",
       "      <td>1392249600</td>\n",
       "      <td>1392249600</td>\n",
       "    </tr>\n",
       "    <tr>\n",
       "      <th>2103</th>\n",
       "      <td>1416557755</td>\n",
       "      <td>1416717516</td>\n",
       "      <td>1430265600</td>\n",
       "      <td>1434067200</td>\n",
       "      <td>1416614400</td>\n",
       "      <td>1416614400</td>\n",
       "      <td>1416614400</td>\n",
       "    </tr>\n",
       "  </tbody>\n",
       "</table>\n",
       "</div>"
      ],
      "text/plain": [
       "      jail_in_epoch  jail_out_epoch  in_cust_epoch  out_cust_epoch  \\\n",
       "6261     1358069777      1358246484     1373500800      1401926400   \n",
       "5837     1379142924      1379303232     1379116800      1379289600   \n",
       "6856     1359445926      1359509781     1366588800      1367107200   \n",
       "5134     1378292767      1378367681     1378252800      1378339200   \n",
       "5274     1359349576      1359859843     1372464000      1392681600   \n",
       "5906     1368063972      1368187814     1368057600      1368144000   \n",
       "4808     1374234928      1377233002     1374192000      1377216000   \n",
       "6092     1395400446      1395636504     1395360000      1395619200   \n",
       "1640     1392192366      1392280196     1395878400      1396051200   \n",
       "2103     1416557755      1416717516     1430265600      1434067200   \n",
       "\n",
       "      scn_date_epoch  com_date_epoch  v_scn_date_epoch  \n",
       "6261      1358121600      1358121600        1358121600  \n",
       "5837      1379203200      1379203200        1379203200  \n",
       "6856      1359504000      1359504000        1359504000  \n",
       "5134      1378339200      1378339200        1378339200  \n",
       "5274      1359331200      1359331200        1359331200  \n",
       "5906      1368057600      1368057600        1368057600  \n",
       "4808      1369440000      1369440000        1369440000  \n",
       "6092      1395446400      1395446400        1395446400  \n",
       "1640      1392249600      1392249600        1392249600  \n",
       "2103      1416614400      1416614400        1416614400  "
      ]
     },
     "execution_count": 33,
     "metadata": {},
     "output_type": "execute_result"
    }
   ],
   "source": [
    "compas_df[['jail_in_epoch','jail_out_epoch','in_cust_epoch','out_cust_epoch',\n",
    "           'scn_date_epoch','com_date_epoch','v_scn_date_epoch']].sample(10)"
   ]
  },
  {
   "cell_type": "code",
   "execution_count": 34,
   "id": "aaf87e09-3b4e-40f1-85c8-bfe255300629",
   "metadata": {},
   "outputs": [],
   "source": [
    "# Drop old date columns\n",
    "compas_df.drop(columns=date_cols, axis=1, inplace=True, errors='ignore')"
   ]
  },
  {
   "cell_type": "code",
   "execution_count": 35,
   "id": "7c77414e-26e6-44d5-a832-f457aeb2c07a",
   "metadata": {},
   "outputs": [],
   "source": [
    "# Label encode sex, age_cat, and race\n",
    "label_encoder = LabelEncoder()\n",
    "compas_df.sex = label_encoder.fit_transform(compas_df.sex)\n",
    "compas_df.race = label_encoder.fit_transform(compas_df.race)\n",
    "compas_df.c_charge_degree = label_encoder.fit_transform(compas_df.c_charge_degree)"
   ]
  },
  {
   "cell_type": "code",
   "execution_count": 36,
   "id": "3ccd687b-9246-4421-9763-bc9467a1e0bd",
   "metadata": {},
   "outputs": [
    {
     "name": "stdout",
     "output_type": "stream",
     "text": [
      "<class 'pandas.core.frame.DataFrame'>\n",
      "RangeIndex: 7214 entries, 0 to 7213\n",
      "Data columns (total 28 columns):\n",
      " #   Column                Non-Null Count  Dtype  \n",
      "---  ------                --------------  -----  \n",
      " 0   age                   7214 non-null   float64\n",
      " 1   juv_fel_count         7214 non-null   float64\n",
      " 2   juv_misd_count        7214 non-null   float64\n",
      " 3   juv_other_count       7214 non-null   float64\n",
      " 4   priors_count          7214 non-null   float64\n",
      " 5   c_days_from_compas    7214 non-null   float64\n",
      " 6   is_recid              7214 non-null   float64\n",
      " 7   is_violent_recid      7214 non-null   float64\n",
      " 8   decile_score.1        7214 non-null   float64\n",
      " 9   v_decile_score        7214 non-null   float64\n",
      " 10  priors_count.1        7214 non-null   float64\n",
      " 11  start                 7214 non-null   float64\n",
      " 12  end                   7214 non-null   float64\n",
      " 13  event                 7214 non-null   float64\n",
      " 14  two_year_recid        7214 non-null   float64\n",
      " 15  sex                   7214 non-null   int64  \n",
      " 16  race                  7214 non-null   int64  \n",
      " 17  c_charge_degree       7214 non-null   int64  \n",
      " 18  type_of_assessment    7214 non-null   object \n",
      " 19  v_type_of_assessment  7214 non-null   object \n",
      " 20  normalized            7214 non-null   float64\n",
      " 21  jail_in_epoch         7214 non-null   int64  \n",
      " 22  jail_out_epoch        7214 non-null   int64  \n",
      " 23  in_cust_epoch         7214 non-null   int64  \n",
      " 24  out_cust_epoch        7214 non-null   int64  \n",
      " 25  scn_date_epoch        7214 non-null   int64  \n",
      " 26  com_date_epoch        7214 non-null   int64  \n",
      " 27  v_scn_date_epoch      7214 non-null   int64  \n",
      "dtypes: float64(16), int64(10), object(2)\n",
      "memory usage: 1.5+ MB\n"
     ]
    }
   ],
   "source": [
    "compas_df.info()"
   ]
  },
  {
   "cell_type": "markdown",
   "id": "ad12bd76-4af6-4637-8ecf-713ea4009084",
   "metadata": {},
   "source": [
    "Columns `type_of_assessment` and `v_type_of_assessment` appear to have not real value to this study.  I will drop them"
   ]
  },
  {
   "cell_type": "code",
   "execution_count": 37,
   "id": "b7c823d5-c65f-4c38-9c5a-9b5151cd12ff",
   "metadata": {},
   "outputs": [],
   "source": [
    "compas_df.drop(['type_of_assessment','v_type_of_assessment'], axis=1, inplace=True, errors='ignore')"
   ]
  },
  {
   "cell_type": "markdown",
   "id": "a906ef1d-61ef-41f5-b4e9-fa4016a7d087",
   "metadata": {},
   "source": [
    "Use a correlation map to determine which features are highly correlated or not"
   ]
  },
  {
   "cell_type": "code",
   "execution_count": 38,
   "id": "33d505f5-1f8b-4444-b54b-f43243726c5f",
   "metadata": {},
   "outputs": [
    {
     "data": {
      "text/plain": [
       "<Axes: >"
      ]
     },
     "execution_count": 38,
     "metadata": {},
     "output_type": "execute_result"
    },
    {
     "data": {
      "image/png": "[encoded data removed]",
      "text/plain": [
       "<Figure size 1000x1000 with 1 Axes>"
      ]
     },
     "metadata": {},
     "output_type": "display_data"
    }
   ],
   "source": [
    "corrmap = compas_df.corr(numeric_only=True)\n",
    "plt.figure(figsize=(10,10))\n",
    "corrmap['two_year_recid'].sort_values(ascending=False).plot(kind='bar')"
   ]
  },
  {
   "cell_type": "markdown",
   "id": "0f4920a8-8cc8-4df7-bcb5-09f33e3aa4d6",
   "metadata": {},
   "source": [
    "From the correlation plot above, the `juv_misd_count`, `juv_other_count`, `juv_fel_count`, `c_days_from_compas`, `sex`, and `start` features can safely be removed since they are not highly correlated with `two_year_recid`.  I will drop these."
   ]
  },
  {
   "cell_type": "code",
   "execution_count": 39,
   "id": "f8ca22d4-acaf-4a12-9d7f-a962d120b321",
   "metadata": {},
   "outputs": [
    {
     "name": "stdout",
     "output_type": "stream",
     "text": [
      "<class 'pandas.core.frame.DataFrame'>\n",
      "RangeIndex: 7214 entries, 0 to 7213\n",
      "Data columns (total 18 columns):\n",
      " #   Column            Non-Null Count  Dtype  \n",
      "---  ------            --------------  -----  \n",
      " 0   age               7214 non-null   float64\n",
      " 1   priors_count      7214 non-null   float64\n",
      " 2   is_violent_recid  7214 non-null   float64\n",
      " 3   decile_score.1    7214 non-null   float64\n",
      " 4   v_decile_score    7214 non-null   float64\n",
      " 5   priors_count.1    7214 non-null   float64\n",
      " 6   end               7214 non-null   float64\n",
      " 7   two_year_recid    7214 non-null   float64\n",
      " 8   race              7214 non-null   int64  \n",
      " 9   c_charge_degree   7214 non-null   int64  \n",
      " 10  normalized        7214 non-null   float64\n",
      " 11  jail_in_epoch     7214 non-null   int64  \n",
      " 12  jail_out_epoch    7214 non-null   int64  \n",
      " 13  in_cust_epoch     7214 non-null   int64  \n",
      " 14  out_cust_epoch    7214 non-null   int64  \n",
      " 15  scn_date_epoch    7214 non-null   int64  \n",
      " 16  com_date_epoch    7214 non-null   int64  \n",
      " 17  v_scn_date_epoch  7214 non-null   int64  \n",
      "dtypes: float64(9), int64(9)\n",
      "memory usage: 1014.6 KB\n"
     ]
    }
   ],
   "source": [
    "drop_cols = ['is_recid','event','juv_misd_count','juv_other_count','juv_fel_count',\n",
    "             'c_days_from_compas','sex','start']\n",
    "compas_df.drop(columns=drop_cols, axis=1, inplace=True, errors='ignore')\n",
    "compas_df.info()"
   ]
  },
  {
   "cell_type": "code",
   "execution_count": 40,
   "id": "b6088218-94b8-456f-9c50-054a2eecf1d3",
   "metadata": {},
   "outputs": [
    {
     "data": {
      "image/png": "[encoded data removed]",
      "text/plain": [
       "<Figure size 1000x1000 with 1 Axes>"
      ]
     },
     "metadata": {},
     "output_type": "display_data"
    }
   ],
   "source": [
    "corrmap = compas_df.corr(numeric_only=True)\n",
    "plt.figure(figsize=(10,10))\n",
    "corrmap['two_year_recid'].sort_values(ascending=False).plot(kind='bar')\n",
    "plt.savefig('figures/finalCorrMap.png', bbox_inches='tight', dpi=300)"
   ]
  },
  {
   "cell_type": "markdown",
   "id": "b6b3666f-4b79-456f-b118-26d5e78cb89a",
   "metadata": {},
   "source": [
    "### Create Training and Test Datasets"
   ]
  },
  {
   "cell_type": "code",
   "execution_count": 41,
   "id": "5ff6ddcf-6263-4183-beb8-ce440143e533",
   "metadata": {},
   "outputs": [],
   "source": [
    "X = compas_df.drop('two_year_recid', axis=1)\n",
    "y = compas_df['two_year_recid']\n",
    "\n",
    "X_train, X_test, y_train, y_test = train_test_split(X, y, random_state=42, test_size=0.2)"
   ]
  },
  {
   "cell_type": "markdown",
   "id": "9e01c2f8-9989-43b7-8420-a469cda277f1",
   "metadata": {},
   "source": [
    "### Scale Numeric Features\n",
    "I will keep a copy of the original *X_train* and *X_test* datasets for training the Random Forest Classifier model.  It does not require scaled data"
   ]
  },
  {
   "cell_type": "code",
   "execution_count": 42,
   "id": "6243a386-90aa-4a27-8df3-7fecae13b166",
   "metadata": {},
   "outputs": [],
   "source": [
    "# Create scaler object\n",
    "scaler = StandardScaler()\n",
    "\n",
    "# Scale numeric values\n",
    "X_train_scaled = scaler.fit_transform(X_train)\n",
    "X_test_scaled  = scaler.fit_transform(X_test)"
   ]
  },
  {
   "cell_type": "markdown",
   "id": "d7e6220e-8b87-4494-a4f1-695244f31db6",
   "metadata": {},
   "source": [
    "### Create and Train Logistic Regression Model"
   ]
  },
  {
   "cell_type": "code",
   "execution_count": 43,
   "id": "5ee92c86-6018-4837-a402-c25addf6c04c",
   "metadata": {
    "scrolled": true
   },
   "outputs": [
    {
     "name": "stdout",
     "output_type": "stream",
     "text": [
      "Model:          LogisticRegression()\n",
      "              precision    recall  f1-score   support\n",
      "\n",
      "         0.0       0.93      0.87      0.90       823\n",
      "         1.0       0.84      0.92      0.88       620\n",
      "\n",
      "    accuracy                           0.89      1443\n",
      "   macro avg       0.89      0.89      0.89      1443\n",
      "weighted avg       0.89      0.89      0.89      1443\n",
      "\n",
      "Train Score:    0.88\n",
      "Accuracy Score: 0.89\n",
      "TPR Rate:       0.92\n",
      "TNR Rate:       0.56\n",
      "FPR Rate:       0.13\n",
      "FNR Rate:       0.08\n"
     ]
    }
   ],
   "source": [
    "# Create model object\n",
    "lr_model = LogisticRegression()\n",
    "\n",
    "# Train and evaluate model\n",
    "lr_report, lr_cm = score_model(lr_model, X_train_scaled, X_test_scaled, y_train, y_test)"
   ]
  },
  {
   "cell_type": "markdown",
   "id": "145d0156-f34d-4c5f-aadd-f5f9d1b14a27",
   "metadata": {},
   "source": [
    "### Create and Train SVM Model"
   ]
  },
  {
   "cell_type": "code",
   "execution_count": 44,
   "id": "dfb30ae6-f84d-4c2a-9d08-3fb7e57ffb61",
   "metadata": {},
   "outputs": [
    {
     "name": "stdout",
     "output_type": "stream",
     "text": [
      "Model:          SVC(probability=True, random_state=42)\n",
      "              precision    recall  f1-score   support\n",
      "\n",
      "         0.0       0.97      0.84      0.90       823\n",
      "         1.0       0.82      0.96      0.88       620\n",
      "\n",
      "    accuracy                           0.89      1443\n",
      "   macro avg       0.89      0.90      0.89      1443\n",
      "weighted avg       0.90      0.89      0.89      1443\n",
      "\n",
      "Train Score:    0.90\n",
      "Accuracy Score: 0.89\n",
      "TPR Rate:       0.96\n",
      "TNR Rate:       0.54\n",
      "FPR Rate:       0.16\n",
      "FNR Rate:       0.04\n"
     ]
    }
   ],
   "source": [
    "svm_model = svm.SVC(random_state=42, probability=True)\n",
    "svm_preds, svm_cm = score_model(svm_model, X_train_scaled, X_test_scaled, y_train, y_test)"
   ]
  },
  {
   "cell_type": "markdown",
   "id": "abbfb8e5-e2af-4fd6-b596-31ccae9b7555",
   "metadata": {},
   "source": [
    "### Create and Train Random Forest Classifier"
   ]
  },
  {
   "cell_type": "code",
   "execution_count": 45,
   "id": "c82dcb22-67c5-4e96-8f16-761ff806602a",
   "metadata": {},
   "outputs": [
    {
     "name": "stdout",
     "output_type": "stream",
     "text": [
      "Model:          RandomForestClassifier(n_jobs=-1, random_state=42)\n",
      "              precision    recall  f1-score   support\n",
      "\n",
      "         0.0       0.96      0.87      0.91       823\n",
      "         1.0       0.85      0.95      0.90       620\n",
      "\n",
      "    accuracy                           0.91      1443\n",
      "   macro avg       0.90      0.91      0.91      1443\n",
      "weighted avg       0.91      0.91      0.91      1443\n",
      "\n",
      "Train Score:    1.00\n",
      "Accuracy Score: 0.91\n",
      "TPR Rate:       0.95\n",
      "TNR Rate:       0.55\n",
      "FPR Rate:       0.13\n",
      "FNR Rate:       0.05\n"
     ]
    }
   ],
   "source": [
    "rfc_model = RandomForestClassifier(random_state=42, n_jobs=-1)\n",
    "rfc_preds, rfc_cm = score_model(rfc_model, X_train, X_test, y_train, y_test)"
   ]
  },
  {
   "cell_type": "markdown",
   "id": "a84fe0a2-0e38-4d5c-be34-a7f559f2f410",
   "metadata": {},
   "source": [
    "### Training Score is Concerning\n",
    "The training score for this model is 1.0 which might indicate it is overfitted.  This is most likely caused by noise in the data and one method to reduce the noise is to reduce the number of trees used by the model by setting the `n_estimators` hyperparameter.  The default is 100, so I will try a lower number."
   ]
  },
  {
   "cell_type": "code",
   "execution_count": 46,
   "id": "267d22e6-fb8c-4667-a98a-6951d8aa980a",
   "metadata": {},
   "outputs": [
    {
     "name": "stdout",
     "output_type": "stream",
     "text": [
      "Model:          RandomForestClassifier(n_estimators=2, n_jobs=-1, random_state=42)\n",
      "              precision    recall  f1-score   support\n",
      "\n",
      "         0.0       0.82      0.93      0.88       823\n",
      "         1.0       0.89      0.73      0.81       620\n",
      "\n",
      "    accuracy                           0.85      1443\n",
      "   macro avg       0.86      0.83      0.84      1443\n",
      "weighted avg       0.85      0.85      0.85      1443\n",
      "\n",
      "Train Score:    0.95\n",
      "Accuracy Score: 0.85\n",
      "TPR Rate:       0.73\n",
      "TNR Rate:       0.63\n",
      "FPR Rate:       0.07\n",
      "FNR Rate:       0.27\n"
     ]
    }
   ],
   "source": [
    "reduced_rfc = RandomForestClassifier(random_state=42, n_estimators=2, n_jobs=-1)\n",
    "reduced_preds, reduced_cm = score_model(reduced_rfc, X_train, X_test, y_train, y_test)"
   ]
  },
  {
   "cell_type": "markdown",
   "id": "a9a0af7b-2ad7-46e0-ae17-89712eb80452",
   "metadata": {},
   "source": [
    "Reduced the number of estimators to two, but the model is still slightly overfitted.  I will use `GridSearchCV()` to find the optimal hyperparameter settings."
   ]
  },
  {
   "cell_type": "code",
   "execution_count": 47,
   "id": "edc44947-0067-4669-8c96-e1be6aaafc42",
   "metadata": {},
   "outputs": [
    {
     "data": {
      "text/html": [
       "<style>#sk-container-id-1 {\n",
       "  /* Definition of color scheme common for light and dark mode */\n",
       "  --sklearn-color-text: #000;\n",
       "  --sklearn-color-text-muted: #666;\n",
       "  --sklearn-color-line: gray;\n",
       "  /* Definition of color scheme for unfitted estimators */\n",
       "  --sklearn-color-unfitted-level-0: #fff5e6;\n",
       "  --sklearn-color-unfitted-level-1: #f6e4d2;\n",
       "  --sklearn-color-unfitted-level-2: #ffe0b3;\n",
       "  --sklearn-color-unfitted-level-3: chocolate;\n",
       "  /* Definition of color scheme for fitted estimators */\n",
       "  --sklearn-color-fitted-level-0: #f0f8ff;\n",
       "  --sklearn-color-fitted-level-1: #d4ebff;\n",
       "  --sklearn-color-fitted-level-2: #b3dbfd;\n",
       "  --sklearn-color-fitted-level-3: cornflowerblue;\n",
       "\n",
       "  /* Specific color for light theme */\n",
       "  --sklearn-color-text-on-default-background: var(--sg-text-color, var(--theme-code-foreground, var(--jp-content-font-color1, black)));\n",
       "  --sklearn-color-background: var(--sg-background-color, var(--theme-background, var(--jp-layout-color0, white)));\n",
       "  --sklearn-color-border-box: var(--sg-text-color, var(--theme-code-foreground, var(--jp-content-font-color1, black)));\n",
       "  --sklearn-color-icon: #696969;\n",
       "\n",
       "  @media (prefers-color-scheme: dark) {\n",
       "    /* Redefinition of color scheme for dark theme */\n",
       "    --sklearn-color-text-on-default-background: var(--sg-text-color, var(--theme-code-foreground, var(--jp-content-font-color1, white)));\n",
       "    --sklearn-color-background: var(--sg-background-color, var(--theme-background, var(--jp-layout-color0, #111)));\n",
       "    --sklearn-color-border-box: var(--sg-text-color, var(--theme-code-foreground, var(--jp-content-font-color1, white)));\n",
       "    --sklearn-color-icon: #878787;\n",
       "  }\n",
       "}\n",
       "\n",
       "#sk-container-id-1 {\n",
       "  color: var(--sklearn-color-text);\n",
       "}\n",
       "\n",
       "#sk-container-id-1 pre {\n",
       "  padding: 0;\n",
       "}\n",
       "\n",
       "#sk-container-id-1 input.sk-hidden--visually {\n",
       "  border: 0;\n",
       "  clip: rect(1px 1px 1px 1px);\n",
       "  clip: rect(1px, 1px, 1px, 1px);\n",
       "  height: 1px;\n",
       "  margin: -1px;\n",
       "  overflow: hidden;\n",
       "  padding: 0;\n",
       "  position: absolute;\n",
       "  width: 1px;\n",
       "}\n",
       "\n",
       "#sk-container-id-1 div.sk-dashed-wrapped {\n",
       "  border: 1px dashed var(--sklearn-color-line);\n",
       "  margin: 0 0.4em 0.5em 0.4em;\n",
       "  box-sizing: border-box;\n",
       "  padding-bottom: 0.4em;\n",
       "  background-color: var(--sklearn-color-background);\n",
       "}\n",
       "\n",
       "#sk-container-id-1 div.sk-container {\n",
       "  /* jupyter's `normalize.less` sets `[hidden] { display: none; }`\n",
       "     but bootstrap.min.css set `[hidden] { display: none !important; }`\n",
       "     so we also need the `!important` here to be able to override the\n",
       "     default hidden behavior on the sphinx rendered scikit-learn.org.\n",
       "     See: https://github.com/scikit-learn/scikit-learn/issues/21755 */\n",
       "  display: inline-block !important;\n",
       "  position: relative;\n",
       "}\n",
       "\n",
       "#sk-container-id-1 div.sk-text-repr-fallback {\n",
       "  display: none;\n",
       "}\n",
       "\n",
       "div.sk-parallel-item,\n",
       "div.sk-serial,\n",
       "div.sk-item {\n",
       "  /* draw centered vertical line to link estimators */\n",
       "  background-image: linear-gradient(var(--sklearn-color-text-on-default-background), var(--sklearn-color-text-on-default-background));\n",
       "  background-size: 2px 100%;\n",
       "  background-repeat: no-repeat;\n",
       "  background-position: center center;\n",
       "}\n",
       "\n",
       "/* Parallel-specific style estimator block */\n",
       "\n",
       "#sk-container-id-1 div.sk-parallel-item::after {\n",
       "  content: \"\";\n",
       "  width: 100%;\n",
       "  border-bottom: 2px solid var(--sklearn-color-text-on-default-background);\n",
       "  flex-grow: 1;\n",
       "}\n",
       "\n",
       "#sk-container-id-1 div.sk-parallel {\n",
       "  display: flex;\n",
       "  align-items: stretch;\n",
       "  justify-content: center;\n",
       "  background-color: var(--sklearn-color-background);\n",
       "  position: relative;\n",
       "}\n",
       "\n",
       "#sk-container-id-1 div.sk-parallel-item {\n",
       "  display: flex;\n",
       "  flex-direction: column;\n",
       "}\n",
       "\n",
       "#sk-container-id-1 div.sk-parallel-item:first-child::after {\n",
       "  align-self: flex-end;\n",
       "  width: 50%;\n",
       "}\n",
       "\n",
       "#sk-container-id-1 div.sk-parallel-item:last-child::after {\n",
       "  align-self: flex-start;\n",
       "  width: 50%;\n",
       "}\n",
       "\n",
       "#sk-container-id-1 div.sk-parallel-item:only-child::after {\n",
       "  width: 0;\n",
       "}\n",
       "\n",
       "/* Serial-specific style estimator block */\n",
       "\n",
       "#sk-container-id-1 div.sk-serial {\n",
       "  display: flex;\n",
       "  flex-direction: column;\n",
       "  align-items: center;\n",
       "  background-color: var(--sklearn-color-background);\n",
       "  padding-right: 1em;\n",
       "  padding-left: 1em;\n",
       "}\n",
       "\n",
       "\n",
       "/* Toggleable style: style used for estimator/Pipeline/ColumnTransformer box that is\n",
       "clickable and can be expanded/collapsed.\n",
       "- Pipeline and ColumnTransformer use this feature and define the default style\n",
       "- Estimators will overwrite some part of the style using the `sk-estimator` class\n",
       "*/\n",
       "\n",
       "/* Pipeline and ColumnTransformer style (default) */\n",
       "\n",
       "#sk-container-id-1 div.sk-toggleable {\n",
       "  /* Default theme specific background. It is overwritten whether we have a\n",
       "  specific estimator or a Pipeline/ColumnTransformer */\n",
       "  background-color: var(--sklearn-color-background);\n",
       "}\n",
       "\n",
       "/* Toggleable label */\n",
       "#sk-container-id-1 label.sk-toggleable__label {\n",
       "  cursor: pointer;\n",
       "  display: flex;\n",
       "  width: 100%;\n",
       "  margin-bottom: 0;\n",
       "  padding: 0.5em;\n",
       "  box-sizing: border-box;\n",
       "  text-align: center;\n",
       "  align-items: start;\n",
       "  justify-content: space-between;\n",
       "  gap: 0.5em;\n",
       "}\n",
       "\n",
       "#sk-container-id-1 label.sk-toggleable__label .caption {\n",
       "  font-size: 0.6rem;\n",
       "  font-weight: lighter;\n",
       "  color: var(--sklearn-color-text-muted);\n",
       "}\n",
       "\n",
       "#sk-container-id-1 label.sk-toggleable__label-arrow:before {\n",
       "  /* Arrow on the left of the label */\n",
       "  content: \"▸\";\n",
       "  float: left;\n",
       "  margin-right: 0.25em;\n",
       "  color: var(--sklearn-color-icon);\n",
       "}\n",
       "\n",
       "#sk-container-id-1 label.sk-toggleable__label-arrow:hover:before {\n",
       "  color: var(--sklearn-color-text);\n",
       "}\n",
       "\n",
       "/* Toggleable content - dropdown */\n",
       "\n",
       "#sk-container-id-1 div.sk-toggleable__content {\n",
       "  max-height: 0;\n",
       "  max-width: 0;\n",
       "  overflow: hidden;\n",
       "  text-align: left;\n",
       "  /* unfitted */\n",
       "  background-color: var(--sklearn-color-unfitted-level-0);\n",
       "}\n",
       "\n",
       "#sk-container-id-1 div.sk-toggleable__content.fitted {\n",
       "  /* fitted */\n",
       "  background-color: var(--sklearn-color-fitted-level-0);\n",
       "}\n",
       "\n",
       "#sk-container-id-1 div.sk-toggleable__content pre {\n",
       "  margin: 0.2em;\n",
       "  border-radius: 0.25em;\n",
       "  color: var(--sklearn-color-text);\n",
       "  /* unfitted */\n",
       "  background-color: var(--sklearn-color-unfitted-level-0);\n",
       "}\n",
       "\n",
       "#sk-container-id-1 div.sk-toggleable__content.fitted pre {\n",
       "  /* unfitted */\n",
       "  background-color: var(--sklearn-color-fitted-level-0);\n",
       "}\n",
       "\n",
       "#sk-container-id-1 input.sk-toggleable__control:checked~div.sk-toggleable__content {\n",
       "  /* Expand drop-down */\n",
       "  max-height: 200px;\n",
       "  max-width: 100%;\n",
       "  overflow: auto;\n",
       "}\n",
       "\n",
       "#sk-container-id-1 input.sk-toggleable__control:checked~label.sk-toggleable__label-arrow:before {\n",
       "  content: \"▾\";\n",
       "}\n",
       "\n",
       "/* Pipeline/ColumnTransformer-specific style */\n",
       "\n",
       "#sk-container-id-1 div.sk-label input.sk-toggleable__control:checked~label.sk-toggleable__label {\n",
       "  color: var(--sklearn-color-text);\n",
       "  background-color: var(--sklearn-color-unfitted-level-2);\n",
       "}\n",
       "\n",
       "#sk-container-id-1 div.sk-label.fitted input.sk-toggleable__control:checked~label.sk-toggleable__label {\n",
       "  background-color: var(--sklearn-color-fitted-level-2);\n",
       "}\n",
       "\n",
       "/* Estimator-specific style */\n",
       "\n",
       "/* Colorize estimator box */\n",
       "#sk-container-id-1 div.sk-estimator input.sk-toggleable__control:checked~label.sk-toggleable__label {\n",
       "  /* unfitted */\n",
       "  background-color: var(--sklearn-color-unfitted-level-2);\n",
       "}\n",
       "\n",
       "#sk-container-id-1 div.sk-estimator.fitted input.sk-toggleable__control:checked~label.sk-toggleable__label {\n",
       "  /* fitted */\n",
       "  background-color: var(--sklearn-color-fitted-level-2);\n",
       "}\n",
       "\n",
       "#sk-container-id-1 div.sk-label label.sk-toggleable__label,\n",
       "#sk-container-id-1 div.sk-label label {\n",
       "  /* The background is the default theme color */\n",
       "  color: var(--sklearn-color-text-on-default-background);\n",
       "}\n",
       "\n",
       "/* On hover, darken the color of the background */\n",
       "#sk-container-id-1 div.sk-label:hover label.sk-toggleable__label {\n",
       "  color: var(--sklearn-color-text);\n",
       "  background-color: var(--sklearn-color-unfitted-level-2);\n",
       "}\n",
       "\n",
       "/* Label box, darken color on hover, fitted */\n",
       "#sk-container-id-1 div.sk-label.fitted:hover label.sk-toggleable__label.fitted {\n",
       "  color: var(--sklearn-color-text);\n",
       "  background-color: var(--sklearn-color-fitted-level-2);\n",
       "}\n",
       "\n",
       "/* Estimator label */\n",
       "\n",
       "#sk-container-id-1 div.sk-label label {\n",
       "  font-family: monospace;\n",
       "  font-weight: bold;\n",
       "  display: inline-block;\n",
       "  line-height: 1.2em;\n",
       "}\n",
       "\n",
       "#sk-container-id-1 div.sk-label-container {\n",
       "  text-align: center;\n",
       "}\n",
       "\n",
       "/* Estimator-specific */\n",
       "#sk-container-id-1 div.sk-estimator {\n",
       "  font-family: monospace;\n",
       "  border: 1px dotted var(--sklearn-color-border-box);\n",
       "  border-radius: 0.25em;\n",
       "  box-sizing: border-box;\n",
       "  margin-bottom: 0.5em;\n",
       "  /* unfitted */\n",
       "  background-color: var(--sklearn-color-unfitted-level-0);\n",
       "}\n",
       "\n",
       "#sk-container-id-1 div.sk-estimator.fitted {\n",
       "  /* fitted */\n",
       "  background-color: var(--sklearn-color-fitted-level-0);\n",
       "}\n",
       "\n",
       "/* on hover */\n",
       "#sk-container-id-1 div.sk-estimator:hover {\n",
       "  /* unfitted */\n",
       "  background-color: var(--sklearn-color-unfitted-level-2);\n",
       "}\n",
       "\n",
       "#sk-container-id-1 div.sk-estimator.fitted:hover {\n",
       "  /* fitted */\n",
       "  background-color: var(--sklearn-color-fitted-level-2);\n",
       "}\n",
       "\n",
       "/* Specification for estimator info (e.g. \"i\" and \"?\") */\n",
       "\n",
       "/* Common style for \"i\" and \"?\" */\n",
       "\n",
       ".sk-estimator-doc-link,\n",
       "a:link.sk-estimator-doc-link,\n",
       "a:visited.sk-estimator-doc-link {\n",
       "  float: right;\n",
       "  font-size: smaller;\n",
       "  line-height: 1em;\n",
       "  font-family: monospace;\n",
       "  background-color: var(--sklearn-color-background);\n",
       "  border-radius: 1em;\n",
       "  height: 1em;\n",
       "  width: 1em;\n",
       "  text-decoration: none !important;\n",
       "  margin-left: 0.5em;\n",
       "  text-align: center;\n",
       "  /* unfitted */\n",
       "  border: var(--sklearn-color-unfitted-level-1) 1pt solid;\n",
       "  color: var(--sklearn-color-unfitted-level-1);\n",
       "}\n",
       "\n",
       ".sk-estimator-doc-link.fitted,\n",
       "a:link.sk-estimator-doc-link.fitted,\n",
       "a:visited.sk-estimator-doc-link.fitted {\n",
       "  /* fitted */\n",
       "  border: var(--sklearn-color-fitted-level-1) 1pt solid;\n",
       "  color: var(--sklearn-color-fitted-level-1);\n",
       "}\n",
       "\n",
       "/* On hover */\n",
       "div.sk-estimator:hover .sk-estimator-doc-link:hover,\n",
       ".sk-estimator-doc-link:hover,\n",
       "div.sk-label-container:hover .sk-estimator-doc-link:hover,\n",
       ".sk-estimator-doc-link:hover {\n",
       "  /* unfitted */\n",
       "  background-color: var(--sklearn-color-unfitted-level-3);\n",
       "  color: var(--sklearn-color-background);\n",
       "  text-decoration: none;\n",
       "}\n",
       "\n",
       "div.sk-estimator.fitted:hover .sk-estimator-doc-link.fitted:hover,\n",
       ".sk-estimator-doc-link.fitted:hover,\n",
       "div.sk-label-container:hover .sk-estimator-doc-link.fitted:hover,\n",
       ".sk-estimator-doc-link.fitted:hover {\n",
       "  /* fitted */\n",
       "  background-color: var(--sklearn-color-fitted-level-3);\n",
       "  color: var(--sklearn-color-background);\n",
       "  text-decoration: none;\n",
       "}\n",
       "\n",
       "/* Span, style for the box shown on hovering the info icon */\n",
       ".sk-estimator-doc-link span {\n",
       "  display: none;\n",
       "  z-index: 9999;\n",
       "  position: relative;\n",
       "  font-weight: normal;\n",
       "  right: .2ex;\n",
       "  padding: .5ex;\n",
       "  margin: .5ex;\n",
       "  width: min-content;\n",
       "  min-width: 20ex;\n",
       "  max-width: 50ex;\n",
       "  color: var(--sklearn-color-text);\n",
       "  box-shadow: 2pt 2pt 4pt #999;\n",
       "  /* unfitted */\n",
       "  background: var(--sklearn-color-unfitted-level-0);\n",
       "  border: .5pt solid var(--sklearn-color-unfitted-level-3);\n",
       "}\n",
       "\n",
       ".sk-estimator-doc-link.fitted span {\n",
       "  /* fitted */\n",
       "  background: var(--sklearn-color-fitted-level-0);\n",
       "  border: var(--sklearn-color-fitted-level-3);\n",
       "}\n",
       "\n",
       ".sk-estimator-doc-link:hover span {\n",
       "  display: block;\n",
       "}\n",
       "\n",
       "/* \"?\"-specific style due to the `<a>` HTML tag */\n",
       "\n",
       "#sk-container-id-1 a.estimator_doc_link {\n",
       "  float: right;\n",
       "  font-size: 1rem;\n",
       "  line-height: 1em;\n",
       "  font-family: monospace;\n",
       "  background-color: var(--sklearn-color-background);\n",
       "  border-radius: 1rem;\n",
       "  height: 1rem;\n",
       "  width: 1rem;\n",
       "  text-decoration: none;\n",
       "  /* unfitted */\n",
       "  color: var(--sklearn-color-unfitted-level-1);\n",
       "  border: var(--sklearn-color-unfitted-level-1) 1pt solid;\n",
       "}\n",
       "\n",
       "#sk-container-id-1 a.estimator_doc_link.fitted {\n",
       "  /* fitted */\n",
       "  border: var(--sklearn-color-fitted-level-1) 1pt solid;\n",
       "  color: var(--sklearn-color-fitted-level-1);\n",
       "}\n",
       "\n",
       "/* On hover */\n",
       "#sk-container-id-1 a.estimator_doc_link:hover {\n",
       "  /* unfitted */\n",
       "  background-color: var(--sklearn-color-unfitted-level-3);\n",
       "  color: var(--sklearn-color-background);\n",
       "  text-decoration: none;\n",
       "}\n",
       "\n",
       "#sk-container-id-1 a.estimator_doc_link.fitted:hover {\n",
       "  /* fitted */\n",
       "  background-color: var(--sklearn-color-fitted-level-3);\n",
       "}\n",
       "</style><div id=\"sk-container-id-1\" class=\"sk-top-container\"><div class=\"sk-text-repr-fallback\"><pre>GridSearchCV(cv=5, estimator=RandomForestClassifier(n_jobs=-1, random_state=42),\n",
       "             param_grid={&#x27;criterion&#x27;: [&#x27;gini&#x27;, &#x27;entropy&#x27;],\n",
       "                         &#x27;max_depth&#x27;: [2, 3, 4, 5, 6],\n",
       "                         &#x27;max_features&#x27;: [&#x27;auto&#x27;, &#x27;sqrt&#x27;, &#x27;log2&#x27;],\n",
       "                         &#x27;min_samples_leaf&#x27;: [1, 5, 10],\n",
       "                         &#x27;min_samples_split&#x27;: [2, 5, 10],\n",
       "                         &#x27;n_estimators&#x27;: [2, 50]})</pre><b>In a Jupyter environment, please rerun this cell to show the HTML representation or trust the notebook. <br />On GitHub, the HTML representation is unable to render, please try loading this page with nbviewer.org.</b></div><div class=\"sk-container\" hidden><div class=\"sk-item sk-dashed-wrapped\"><div class=\"sk-label-container\"><div class=\"sk-label fitted sk-toggleable\"><input class=\"sk-toggleable__control sk-hidden--visually\" id=\"sk-estimator-id-1\" type=\"checkbox\" ><label for=\"sk-estimator-id-1\" class=\"sk-toggleable__label fitted sk-toggleable__label-arrow\"><div><div>GridSearchCV</div></div><div><a class=\"sk-estimator-doc-link fitted\" rel=\"noreferrer\" target=\"_blank\" href=\"https://scikit-learn.org/1.6/modules/generated/sklearn.model_selection.GridSearchCV.html\">?<span>Documentation for GridSearchCV</span></a><span class=\"sk-estimator-doc-link fitted\">i<span>Fitted</span></span></div></label><div class=\"sk-toggleable__content fitted\"><pre>GridSearchCV(cv=5, estimator=RandomForestClassifier(n_jobs=-1, random_state=42),\n",
       "             param_grid={&#x27;criterion&#x27;: [&#x27;gini&#x27;, &#x27;entropy&#x27;],\n",
       "                         &#x27;max_depth&#x27;: [2, 3, 4, 5, 6],\n",
       "                         &#x27;max_features&#x27;: [&#x27;auto&#x27;, &#x27;sqrt&#x27;, &#x27;log2&#x27;],\n",
       "                         &#x27;min_samples_leaf&#x27;: [1, 5, 10],\n",
       "                         &#x27;min_samples_split&#x27;: [2, 5, 10],\n",
       "                         &#x27;n_estimators&#x27;: [2, 50]})</pre></div> </div></div><div class=\"sk-parallel\"><div class=\"sk-parallel-item\"><div class=\"sk-item\"><div class=\"sk-label-container\"><div class=\"sk-label fitted sk-toggleable\"><input class=\"sk-toggleable__control sk-hidden--visually\" id=\"sk-estimator-id-2\" type=\"checkbox\" ><label for=\"sk-estimator-id-2\" class=\"sk-toggleable__label fitted sk-toggleable__label-arrow\"><div><div>best_estimator_: RandomForestClassifier</div></div></label><div class=\"sk-toggleable__content fitted\"><pre>RandomForestClassifier(max_depth=6, n_estimators=50, n_jobs=-1, random_state=42)</pre></div> </div></div><div class=\"sk-serial\"><div class=\"sk-item\"><div class=\"sk-estimator fitted sk-toggleable\"><input class=\"sk-toggleable__control sk-hidden--visually\" id=\"sk-estimator-id-3\" type=\"checkbox\" ><label for=\"sk-estimator-id-3\" class=\"sk-toggleable__label fitted sk-toggleable__label-arrow\"><div><div>RandomForestClassifier</div></div><div><a class=\"sk-estimator-doc-link fitted\" rel=\"noreferrer\" target=\"_blank\" href=\"https://scikit-learn.org/1.6/modules/generated/sklearn.ensemble.RandomForestClassifier.html\">?<span>Documentation for RandomForestClassifier</span></a></div></label><div class=\"sk-toggleable__content fitted\"><pre>RandomForestClassifier(max_depth=6, n_estimators=50, n_jobs=-1, random_state=42)</pre></div> </div></div></div></div></div></div></div></div></div>"
      ],
      "text/plain": [
       "GridSearchCV(cv=5, estimator=RandomForestClassifier(n_jobs=-1, random_state=42),\n",
       "             param_grid={'criterion': ['gini', 'entropy'],\n",
       "                         'max_depth': [2, 3, 4, 5, 6],\n",
       "                         'max_features': ['auto', 'sqrt', 'log2'],\n",
       "                         'min_samples_leaf': [1, 5, 10],\n",
       "                         'min_samples_split': [2, 5, 10],\n",
       "                         'n_estimators': [2, 50]})"
      ]
     },
     "execution_count": 47,
     "metadata": {},
     "output_type": "execute_result"
    }
   ],
   "source": [
    "params = {'n_estimators': [2, 50],\n",
    "          'max_features': ['auto', 'sqrt', 'log2'],\n",
    "          'max_depth': [2, 3, 4, 5, 6],\n",
    "          'min_samples_split': [2, 5, 10],\n",
    "          'min_samples_leaf': [1, 5, 10],\n",
    "          'criterion': ['gini', 'entropy']\n",
    "         }\n",
    "cv_rfc = GridSearchCV(estimator=rfc_model, param_grid=params, cv=5)\n",
    "cv_rfc.fit(X_train, y_train)"
   ]
  },
  {
   "cell_type": "code",
   "execution_count": 48,
   "id": "dc22a38e-9551-45ac-b7b3-5b659f5c6674",
   "metadata": {},
   "outputs": [
    {
     "data": {
      "text/plain": [
       "{'criterion': 'gini',\n",
       " 'max_depth': 6,\n",
       " 'max_features': 'sqrt',\n",
       " 'min_samples_leaf': 1,\n",
       " 'min_samples_split': 2,\n",
       " 'n_estimators': 50}"
      ]
     },
     "execution_count": 48,
     "metadata": {},
     "output_type": "execute_result"
    }
   ],
   "source": [
    "# Print the best hyperparameters\n",
    "cv_rfc.best_params_"
   ]
  },
  {
   "cell_type": "code",
   "execution_count": 49,
   "id": "bab48bc8-60eb-4869-a995-1aed74cd9f61",
   "metadata": {},
   "outputs": [
    {
     "name": "stdout",
     "output_type": "stream",
     "text": [
      "Model:          RandomForestClassifier(max_depth=5, min_samples_split=5, n_estimators=50,\n",
      "                       n_jobs=-1, random_state=42)\n",
      "              precision    recall  f1-score   support\n",
      "\n",
      "         0.0       0.99      0.82      0.90       823\n",
      "         1.0       0.80      0.99      0.89       620\n",
      "\n",
      "    accuracy                           0.89      1443\n",
      "   macro avg       0.90      0.90      0.89      1443\n",
      "weighted avg       0.91      0.89      0.89      1443\n",
      "\n",
      "Train Score:    0.91\n",
      "Accuracy Score: 0.89\n",
      "TPR Rate:       0.99\n",
      "TNR Rate:       0.52\n",
      "FPR Rate:       0.18\n",
      "FNR Rate:       0.01\n"
     ]
    }
   ],
   "source": [
    "# Give the new hyperparameters a try\n",
    "tuned_rfc = RandomForestClassifier(criterion='gini', max_depth=5, max_features='sqrt',\n",
    "                                   min_samples_leaf=1, min_samples_split=5, n_estimators=50, n_jobs=-1,\n",
    "                                   random_state=42)\n",
    "tuned_preds, tuned_cm = score_model(tuned_rfc, X_train, X_test, y_train, y_test)"
   ]
  },
  {
   "cell_type": "markdown",
   "id": "0118d068-0df8-4951-878d-8331ec5111b6",
   "metadata": {},
   "source": [
    "**NOTE**&nbsp;&nbsp;Not much improvement over the original model, but since I made an effort at hyperparameter tuning, I will use the parameters going forward"
   ]
  },
  {
   "cell_type": "markdown",
   "id": "af527fda-8e56-450b-98ed-b4ea9b89eca3",
   "metadata": {},
   "source": [
    "### Perform KFold Cross Validation"
   ]
  },
  {
   "cell_type": "code",
   "execution_count": 50,
   "id": "5ed851e4-fff2-4acb-b9b5-abb6f0b64a52",
   "metadata": {},
   "outputs": [
    {
     "name": "stdout",
     "output_type": "stream",
     "text": [
      "LRG: -0.296990 (0.121847)\n",
      "SVM: -0.296833 (0.014517)\n",
      "RFC: -0.101370 (0.007385)\n"
     ]
    }
   ],
   "source": [
    "models = []\n",
    "models.append(('LRG', LogisticRegression(random_state=42)))\n",
    "models.append(('SVM', svm.SVC(random_state=42, probability=True)))\n",
    "models.append(('RFC', RandomForestClassifier(criterion='entropy', max_depth=5, max_features='sqrt',\n",
    "                                             n_estimators=50, random_state=42)))\n",
    "\n",
    "seed = 42\n",
    "num_folds = 5\n",
    "scoring = 'neg_mean_squared_error'\n",
    "\n",
    "results = []\n",
    "names = []\n",
    "\n",
    "for name, model in models:\n",
    "    kfold = KFold(n_splits=num_folds, random_state=seed, shuffle=True)\n",
    "    cv_results = cross_val_score(model, X_train, y_train, cv=kfold, scoring=scoring)\n",
    "    results.append(cv_results)\n",
    "    names.append(name)\n",
    "    msg = '%s: %f (%f)' % (name, cv_results.mean(), cv_results.std())\n",
    "    print(msg)"
   ]
  },
  {
   "cell_type": "markdown",
   "id": "cd8a678d-9c2d-4997-81e3-455541f6883e",
   "metadata": {},
   "source": [
    "**Visualize KFold Results**"
   ]
  },
  {
   "cell_type": "code",
   "execution_count": 51,
   "id": "f782e278-0a4b-4d84-b2eb-3f698da926ad",
   "metadata": {},
   "outputs": [
    {
     "data": {
      "image/png": "[encoded data removed]",
      "text/plain": [
       "<Figure size 640x480 with 1 Axes>"
      ]
     },
     "metadata": {},
     "output_type": "display_data"
    }
   ],
   "source": [
    "fig = pyplot.figure()\n",
    "fig.suptitle('Algorithm Comparison')\n",
    "ax = fig.add_subplot(111)\n",
    "pyplot.boxplot(results)\n",
    "ax.set_xticklabels(names)\n",
    "pyplot.ylabel('NMSE Value')\n",
    "pyplot.savefig('figures/boxplotAlgorithmComparison.png', bbox_inches='tight', dpi=300)\n",
    "pyplot.show()"
   ]
  },
  {
   "cell_type": "markdown",
   "id": "510a6cd2-784c-4971-a9d4-2951449ff280",
   "metadata": {},
   "source": [
    "Appears the Random Forest Classifier (RFC) model has the NMSE score closest to zero.  Visualize how well its predictions matched the true values"
   ]
  },
  {
   "cell_type": "code",
   "execution_count": 52,
   "id": "d9d5958b-eacf-4781-82a8-c1c6eed56f3e",
   "metadata": {},
   "outputs": [
    {
     "data": {
      "image/png": "[encoded data removed]",
      "text/plain": [
       "<Figure size 500x300 with 2 Axes>"
      ]
     },
     "metadata": {},
     "output_type": "display_data"
    }
   ],
   "source": [
    "labels = ['No','Yes']\n",
    "plt.figure(figsize=(5,3))\n",
    "sns.heatmap(tuned_cm, annot=True, fmt='d', cmap='viridis', xticklabels=labels,\n",
    "            yticklabels=labels)\n",
    "plt.title('RFC Two-Year Predicted vs True')\n",
    "plt.xlabel('Predicted')\n",
    "plt.ylabel('True')\n",
    "plt.savefig('figures/cmTwoYearRFC.png', bbox_inches='tight', dpi=300)\n",
    "plt.show()"
   ]
  },
  {
   "cell_type": "markdown",
   "id": "9b4884c9-6c4d-4c66-983f-d686f89d4737",
   "metadata": {},
   "source": [
    "The RFC model obtained an accuracy of around 99%.  I will calculate the *True Positive Rate (TPR)* and *False Positive Rates (FPR)* this should give a good idea how well the model is at predicting whether a defendant re-offends within two years"
   ]
  },
  {
   "cell_type": "code",
   "execution_count": 53,
   "id": "10dc344e-765e-4acd-b92d-e35ba7d93294",
   "metadata": {},
   "outputs": [
    {
     "name": "stdout",
     "output_type": "stream",
     "text": [
      "The SVM TPR rate is: 0.99\n",
      "The SVM TNR rate is: 0.52\n",
      "The SVM FPR rate is: 0.18\n",
      "The SVM FNR rate is: 0.01\n"
     ]
    }
   ],
   "source": [
    "tpr, tnr, fpr, fnr = calc_rates(tuned_cm)\n",
    "print(f'The SVM TPR rate is: {tpr:.2f}')\n",
    "print(f'The SVM TNR rate is: {tnr:.2f}')\n",
    "print(f'The SVM FPR rate is: {fpr:.2f}')\n",
    "print(f'The SVM FNR rate is: {fnr:.2f}')"
   ]
  },
  {
   "cell_type": "markdown",
   "id": "e34331e1-4ad2-4871-b0cc-18d6e8759b76",
   "metadata": {},
   "source": [
    "Since the *FPR* is relatively low, I will accept a *TPR* of 100%.  The *FPR* of 0.01 could be a rounding error. The *TNR* is 57% so the model is not very good at identifying true negatives. "
   ]
  },
  {
   "cell_type": "markdown",
   "id": "5eaadce1-4b37-4358-b2a9-d7ad167046fd",
   "metadata": {},
   "source": [
    "### Plot ROC Curve for RFC Model"
   ]
  },
  {
   "cell_type": "code",
   "execution_count": 54,
   "id": "f3014731-4008-4ad6-aec4-a0bee9dafddf",
   "metadata": {},
   "outputs": [
    {
     "data": {
      "image/png": "[encoded data removed]",
      "text/plain": [
       "<Figure size 1000x800 with 1 Axes>"
      ]
     },
     "metadata": {},
     "output_type": "display_data"
    },
    {
     "name": "stdout",
     "output_type": "stream",
     "text": [
      "Optimal threshold: 0.54\n"
     ]
    }
   ],
   "source": [
    "rfc_probs = tuned_rfc.predict_proba(X_test)[:, 1]\n",
    "rfc_auc = roc_auc_score(y_test, rfc_probs)\n",
    "fpr, tpr, thresholds = roc_curve(y_test, rfc_probs)\n",
    "\n",
    "fig, ax = plt.subplots(figsize=(10,8))\n",
    "plt.plot(fpr, tpr, label=f'Random Forest Classifier (AUC = {rfc_auc:.2f})')\n",
    "plt.plot([0,1],[0,1], 'k--')\n",
    "ax.set(xlabel='False Positive Rate', ylabel='True Positive Rate', title='RFC ROC Curve')\n",
    "plt.legend(loc='lower right')\n",
    "fig.savefig('figures/rocCurve.png', bbox_inches='tight', dpi=300)\n",
    "plt.show()\n",
    "\n",
    "optimal_idx = np.argmax(tpr - fpr)\n",
    "optimal_threshold = thresholds[optimal_idx]\n",
    "print(f'Optimal threshold: {optimal_threshold:.2f}')"
   ]
  },
  {
   "cell_type": "code",
   "execution_count": null,
   "id": "c57b455b-51cd-42ee-9c86-3d775c65c62f",
   "metadata": {},
   "outputs": [],
   "source": []
  }
 ],
 "metadata": {
  "kernelspec": {
   "display_name": "Python 3 (ipykernel)",
   "language": "python",
   "name": "python3"
  },
  "language_info": {
   "codemirror_mode": {
    "name": "ipython",
    "version": 3
   },
   "file_extension": ".py",
   "mimetype": "text/x-python",
   "name": "python",
   "nbconvert_exporter": "python",
   "pygments_lexer": "ipython3",
   "version": "3.13.5"
  }
 },
 "nbformat": 4,
 "nbformat_minor": 5
}
